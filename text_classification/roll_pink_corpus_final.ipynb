{
 "cells": [
  {
   "cell_type": "code",
   "execution_count": 1,
   "id": "b7d679d9",
   "metadata": {},
   "outputs": [],
   "source": [
    "# data processing libraries\n",
    "import numpy as np\n",
    "import pandas as pd\n",
    "\n",
    "# webscraping annd HTML parsing libraries\n",
    "import requests\n",
    "import re\n",
    "from bs4 import BeautifulSoup\n",
    "\n",
    "# other libraries\n",
    "import time\n",
    "\n",
    "import os"
   ]
  },
  {
   "cell_type": "markdown",
   "id": "2beb667c",
   "metadata": {},
   "source": [
    "**ROLLING STONES**"
   ]
  },
  {
   "cell_type": "code",
   "execution_count": null,
   "id": "5a2c190b",
   "metadata": {},
   "outputs": [],
   "source": [
    "response_1 = requests.get('https://www.lyrics.com/artist/The-Rolling-Stones/5298')\n",
    "headers = {\"User-Agent\": \"Mozilla/5.0 (Macintosh; Intel Mac OS X 10_15_7) AppleWebKit/537.36 (KHTML, like Gecko) Chrome/86.0.4240.198 Safari/537.36\"}\n",
    "\n",
    "rolling_stones_html = response_1.text"
   ]
  },
  {
   "cell_type": "code",
   "execution_count": null,
   "id": "77394bfd",
   "metadata": {},
   "outputs": [],
   "source": [
    "response_1.status_code"
   ]
  },
  {
   "cell_type": "code",
   "execution_count": null,
   "id": "a8911944",
   "metadata": {},
   "outputs": [],
   "source": [
    "with open (\"rolling_stones_html\", \"w\") as r:\n",
    "    r.write(rolling_stones_html)"
   ]
  },
  {
   "cell_type": "code",
   "execution_count": null,
   "id": "1f3e4978",
   "metadata": {},
   "outputs": [],
   "source": [
    "roll_soup = BeautifulSoup(rolling_stones_html,'html.parser')\n",
    "type(roll_soup)"
   ]
  },
  {
   "cell_type": "code",
   "execution_count": null,
   "id": "72ee70a8",
   "metadata": {},
   "outputs": [],
   "source": [
    "roll_links = roll_soup.find(name='table', class_= 'tdata').find_all('tr')\n",
    "type(roll_links)"
   ]
  },
  {
   "cell_type": "code",
   "execution_count": null,
   "id": "63c4df78",
   "metadata": {},
   "outputs": [],
   "source": [
    "pattern='''/lyric/[^>]*\"'''\n",
    "song_links = []\n",
    "for roll_link in roll_links:\n",
    "    roll_link_str = str(roll_link) \n",
    "    song_link = re.findall(pattern, roll_link_str, re.DOTALL)\n",
    "    song_links += song_link\n",
    "print(song_links)"
   ]
  },
  {
   "cell_type": "code",
   "execution_count": null,
   "id": "5ba7d575",
   "metadata": {},
   "outputs": [],
   "source": [
    "type(song_links)"
   ]
  },
  {
   "cell_type": "code",
   "execution_count": null,
   "id": "de8a2067",
   "metadata": {},
   "outputs": [],
   "source": [
    "song_links[0]"
   ]
  },
  {
   "cell_type": "code",
   "execution_count": null,
   "id": "1a7436b0",
   "metadata": {},
   "outputs": [],
   "source": [
    "type(song_links[0])"
   ]
  },
  {
   "cell_type": "code",
   "execution_count": null,
   "id": "15b3f2f6",
   "metadata": {},
   "outputs": [],
   "source": [
    "url = 'https://www.lyrics.com' + song_links[1]\n",
    "url"
   ]
  },
  {
   "cell_type": "code",
   "execution_count": null,
   "id": "eb0e1dae",
   "metadata": {},
   "outputs": [],
   "source": [
    "roll_x = requests.get(url, headers=headers)\n",
    "roll_x"
   ]
  },
  {
   "cell_type": "code",
   "execution_count": null,
   "id": "39b4d425",
   "metadata": {},
   "outputs": [],
   "source": [
    "song_title = song_links[1].split('/')[2]\n",
    "song_title"
   ]
  },
  {
   "cell_type": "code",
   "execution_count": null,
   "id": "41a31597",
   "metadata": {},
   "outputs": [],
   "source": [
    " with open(f'{song_title}.txt', 'w', encoding='utf-8') as f:\n",
    "        f.write(roll_x.text)"
   ]
  },
  {
   "cell_type": "code",
   "execution_count": null,
   "id": "21961a74",
   "metadata": {},
   "outputs": [],
   "source": [
    "\"\"\"for counter, link in enumerate(song_links):\n",
    "    url = 'https://www.lyrics.com' + link\n",
    "    response = requests.get(url, headers=headers)\n",
    "    song_title = link.split('/')[2]\n",
    "    with open(f'{song_title}.txt', 'w', encoding='utf-8') as f:\n",
    "        f.write(response.text)\n",
    "    print(counter, song_title, response.status_code)\"\"\"\n"
   ]
  },
  {
   "cell_type": "code",
   "execution_count": null,
   "id": "c25de87b",
   "metadata": {},
   "outputs": [],
   "source": [
    "from contextlib import suppress\n",
    "\n",
    "roll_lines = []\n",
    "\n",
    "for counter, link in enumerate(song_links):\n",
    "    with suppress(AttributeError):\n",
    "        url = 'https://www.lyrics.com' + link\n",
    "        response_1 = requests.get(url, headers=headers)\n",
    "        response_html = response_1.text\n",
    "        roll_soup=BeautifulSoup(\n",
    "            markup=response_html,\n",
    "            features='html.parser')\n",
    "        song_text = roll_soup.find('pre',class_=\"lyric-body\").text\n",
    "        song_lines = song_text.split(\"\\n\")\n",
    "        song_lines = [line.strip(\"\\r\") for line in song_lines]\n",
    "        song_lines = [line for line in song_lines if len(line)>0]\n",
    "        print(song_lines)\n",
    "        roll_lines.extend(song_lines)"
   ]
  },
  {
   "cell_type": "code",
   "execution_count": null,
   "id": "4a549c4c",
   "metadata": {},
   "outputs": [],
   "source": [
    "roll_lines"
   ]
  },
  {
   "cell_type": "code",
   "execution_count": null,
   "id": "ebc6e0c3",
   "metadata": {},
   "outputs": [],
   "source": [
    "roll_df = pd.DataFrame({'song_lines':roll_lines})\n",
    "roll_df.shape\n"
   ]
  },
  {
   "cell_type": "code",
   "execution_count": null,
   "id": "f453fa6d",
   "metadata": {
    "scrolled": true
   },
   "outputs": [],
   "source": [
    "roll_df[\"singer\"] = \"rolling_stones\"\n",
    "roll_df"
   ]
  },
  {
   "cell_type": "code",
   "execution_count": null,
   "id": "684af491",
   "metadata": {},
   "outputs": [],
   "source": [
    "roll_df.to_csv(\"rolling_stones_corpus.csv\")"
   ]
  },
  {
   "cell_type": "markdown",
   "id": "658cd69e",
   "metadata": {},
   "source": [
    "**PINK FLOYD**"
   ]
  },
  {
   "cell_type": "code",
   "execution_count": 2,
   "id": "27596511",
   "metadata": {},
   "outputs": [],
   "source": [
    "response_2 = requests.get('https://www.lyrics.com/album/3461861/The-Early-Years%3A-1965-1967-Cambridge-St-Ation')\n",
    "headers = {\"User-Agent\": \"Mozilla/5.0 (Macintosh; Intel Mac OS X 10_15_7) AppleWebKit/537.36 (KHTML, like Gecko) Chrome/86.0.4240.198 Safari/537.36\"}\n",
    "\n",
    "pink_floyd_html = response_2.text"
   ]
  },
  {
   "cell_type": "code",
   "execution_count": 3,
   "id": "8da17b47",
   "metadata": {},
   "outputs": [
    {
     "data": {
      "text/plain": [
       "200"
      ]
     },
     "execution_count": 3,
     "metadata": {},
     "output_type": "execute_result"
    }
   ],
   "source": [
    "response_2.status_code"
   ]
  },
  {
   "cell_type": "code",
   "execution_count": 4,
   "id": "6608587b",
   "metadata": {},
   "outputs": [],
   "source": [
    "with open (\"pink_floyd_html\", \"w\") as r:\n",
    "    r.write(pink_floyd_html)"
   ]
  },
  {
   "cell_type": "code",
   "execution_count": 5,
   "id": "94580f03",
   "metadata": {},
   "outputs": [
    {
     "data": {
      "text/plain": [
       "bs4.BeautifulSoup"
      ]
     },
     "execution_count": 5,
     "metadata": {},
     "output_type": "execute_result"
    }
   ],
   "source": [
    "pink_soup = BeautifulSoup(pink_floyd_html,'html.parser')\n",
    "type(pink_soup)"
   ]
  },
  {
   "cell_type": "code",
   "execution_count": 6,
   "id": "b110f331",
   "metadata": {},
   "outputs": [
    {
     "data": {
      "text/plain": [
       "[<tr><th>Disc</th><th>#</th><th>Song</th><th>Artist</th><th>Duration</th></tr>,\n",
       " <tr><td class=\"tal qx fsl\">1</td><td class=\"tal qx fsl\">1</td><td class=\"tal qx fsl\"><div><strong><a href=\"/lyric/33768259/Lucy+Leave\">Lucy Leave</a></strong></div></td><td class=\"tal qx fsl\"><a href=\"artist/Pink-Floyd/76669\">Pink Floyd</a></td><td class=\"tal qx fsl\">2:57</td><td class=\"tal\"> </td></tr>,\n",
       " <tr><td class=\"tal qx fsl\">1</td><td class=\"tal qx fsl\">2</td><td class=\"tal qx fsl\"><div><strong><a href=\"/lyric/33768258/Double+O+Bo\">Double O Bo</a></strong></div></td><td class=\"tal qx fsl\"><a href=\"artist/Pink-Floyd/76669\">Pink Floyd</a></td><td class=\"tal qx fsl\">2:56</td><td class=\"tal\"> </td></tr>,\n",
       " <tr><td class=\"tal qx fsl\">1</td><td class=\"tal qx fsl\">3</td><td class=\"tal qx fsl\"><div><strong><a href=\"/lyric/33768257/Remember+Me\">Remember Me</a></strong></div></td><td class=\"tal qx fsl\"><a href=\"artist/Pink-Floyd/76669\">Pink Floyd</a></td><td class=\"tal qx fsl\">2:45</td><td class=\"tal\"> </td></tr>,\n",
       " <tr><td class=\"tal qx fsl\">1</td><td class=\"tal qx fsl\">4</td><td class=\"tal qx fsl\"><div><strong><a href=\"/lyric/33768256/Walk+With+Me+Sydney\">Walk With Me Sydney</a></strong></div></td><td class=\"tal qx fsl\"><a href=\"artist/Pink-Floyd/76669\">Pink Floyd</a></td><td class=\"tal qx fsl\">3:11</td><td class=\"tal\"> </td></tr>,\n",
       " <tr><td class=\"tal qx fsl\">1</td><td class=\"tal qx fsl\">5</td><td class=\"tal qx fsl\"><div><strong><a href=\"/lyric/33768244/Butterfly\">Butterfly</a></strong></div></td><td class=\"tal qx fsl\"><a href=\"artist/Pink-Floyd/76669\">Pink Floyd</a></td><td class=\"tal qx fsl\">3:00</td><td class=\"tal\"> </td></tr>,\n",
       " <tr><td class=\"tal qx fsl\">1</td><td class=\"tal qx fsl\">6</td><td class=\"tal qx fsl\"><div><strong><a href=\"/lyric/33768255/I%27m+a+King+Bee\">I'm a King Bee</a></strong></div></td><td class=\"tal qx fsl\"><a href=\"artist/Pink-Floyd/76669\">Pink Floyd</a></td><td class=\"tal qx fsl\">3:13</td><td class=\"tal\"> </td></tr>,\n",
       " <tr><td class=\"tal qx fsl\">1</td><td class=\"tal qx fsl\">7</td><td class=\"tal qx fsl\"><div><strong><a href=\"/lyric/33768254/Arnold+Layne\">Arnold Layne</a></strong></div></td><td class=\"tal qx fsl\"><a href=\"artist/Syd-Barrett/3631\">Syd Barrett</a>, <a href=\"artist/Pink-Floyd/76669\">Pink Floyd</a></td><td class=\"tal qx fsl\">2:56</td><td class=\"tal\"> </td></tr>,\n",
       " <tr><td class=\"tal qx fsl\">1</td><td class=\"tal qx fsl\">8</td><td class=\"tal qx fsl\"><div><strong><a href=\"/lyric/33768253/See+Emily+Play\">See Emily Play</a></strong></div></td><td class=\"tal qx fsl\"><a href=\"artist/Syd-Barrett/3631\">Syd Barrett</a>, <a href=\"artist/Pink-Floyd/76669\">Pink Floyd</a></td><td class=\"tal qx fsl\">2:54</td><td class=\"tal\"> </td></tr>,\n",
       " <tr><td class=\"tal qx fsl\">1</td><td class=\"tal qx fsl\">9</td><td class=\"tal qx fsl\"><div><strong><a href=\"/lyric/33768252/Apples+and+Oranges\">Apples and Oranges</a></strong></div></td><td class=\"tal qx fsl\"><a href=\"artist/Syd-Barrett/3631\">Syd Barrett</a>, <a href=\"artist/Pink-Floyd/76669\">Pink Floyd</a></td><td class=\"tal qx fsl\">3:04</td><td class=\"tal\"> </td></tr>,\n",
       " <tr><td class=\"tal qx fsl\">1</td><td class=\"tal qx fsl\">10</td><td class=\"tal qx fsl\"><div><strong><a href=\"/lyric/33768251/Candy+and+a+Currant+Bun\">Candy and a Currant Bun</a></strong></div></td><td class=\"tal qx fsl\"><a href=\"artist/Syd-Barrett/3631\">Syd Barrett</a>, <a href=\"artist/Pink-Floyd/76669\">Pink Floyd</a></td><td class=\"tal qx fsl\">2:45</td><td class=\"tal\"> </td></tr>,\n",
       " <tr><td class=\"tal qx fsl\">1</td><td class=\"tal qx fsl\">11</td><td class=\"tal qx fsl\"><div><strong><a href=\"/lyric/33768250/Paintbox\">Paintbox</a></strong></div></td><td class=\"tal qx fsl\"><a href=\"artist/Pink-Floyd/76669\">Pink Floyd</a></td><td class=\"tal qx fsl\">3:47</td><td class=\"tal\"> </td></tr>,\n",
       " <tr><td class=\"tal qx fsl\">1</td><td class=\"tal qx fsl\">12</td><td class=\"tal qx fsl\"><div><strong><a href=\"/lyric/33768249/Matilda+Mother+%5B2010+Mix%5D\">Matilda Mother [2010 Mix]</a></strong></div></td><td class=\"tal qx fsl\"><a href=\"artist/Syd-Barrett/3631\">Syd Barrett</a>, <a href=\"artist/Pink-Floyd/76669\">Pink Floyd</a></td><td class=\"tal qx fsl\">3:59</td><td class=\"tal\"> </td></tr>,\n",
       " <tr><td class=\"tal qx fsl\">1</td><td class=\"tal qx fsl\">13</td><td class=\"tal qx fsl\"><div><strong><a href=\"/lyric/33768248/Jugband+Blues+%5B2010+Mix%5D+%5B%23%5D\">Jugband Blues [2010 Mix] [#]</a></strong></div></td><td class=\"tal qx fsl\"><a href=\"artist/Pink-Floyd/76669\">Pink Floyd</a></td><td class=\"tal qx fsl\">3:02</td><td class=\"tal\"> </td></tr>,\n",
       " <tr><td class=\"tal qx fsl\">1</td><td class=\"tal qx fsl\">15</td><td class=\"tal qx fsl\"><div><strong><a href=\"/lyric/33768246/Vegetable+Man+%5B2010+Mix%5D+%5B%23%5D\">Vegetable Man [2010 Mix] [#]</a></strong></div></td><td class=\"tal qx fsl\"><a href=\"artist/Pink-Floyd/76669\">Pink Floyd</a></td><td class=\"tal qx fsl\">2:31</td><td class=\"tal\"> </td></tr>,\n",
       " <tr><td class=\"tal qx fsl\">1</td><td class=\"tal qx fsl\">16</td><td class=\"tal qx fsl\"><div><strong><a href=\"/lyric/33768245/Scream+Thy+Last+Scream+%5B2010+Mix%5D+%5B%23%5D\">Scream Thy Last Scream [2010 Mix] [#]</a></strong></div></td><td class=\"tal qx fsl\"><a href=\"artist/Pink-Floyd/76669\">Pink Floyd</a></td><td class=\"tal qx fsl\">4:42</td><td class=\"tal\"> </td></tr>,\n",
       " <tr><td class=\"tal qx fsl\">2</td><td class=\"tal qx fsl\">17</td><td class=\"tal qx fsl\"><div><strong><a href=\"/lyric/33768243/Introduction+%5BLive+in+Stockholm%2C+1967%5D+%5BLive%5D%5B%23%5D\">Introduction [Live in Stockholm, 1967] [Live][#]</a></strong></div></td><td class=\"tal qx fsl\"><a href=\"artist/Amanda-Thompson/423005\">Amanda Thompson</a>, <a href=\"artist/Keith-Rodway/548071\">Keith Rodway</a>, <a href=\"artist/Nancy-McClean/646539\">Nancy McClean</a>, <a href=\"artist/Pink-Floyd/76669\">Pink Floyd</a></td><td class=\"tal qx fsl\">0:25</td><td class=\"tal\"> </td></tr>,\n",
       " <tr><td class=\"tal qx fsl\">2</td><td class=\"tal qx fsl\">22</td><td class=\"tal qx fsl\"><div><strong><a href=\"/lyric/33768238/Set+the+Controls+for+the+Heart+of+the+Sun+%5BLive+in+Stockholm%2C+1967%5D+%5BLi\">Set the Controls for the Heart of the Sun [Live in Stockholm, 1967] [Li</a></strong></div></td><td class=\"tal qx fsl\"><a href=\"artist/Pink-Floyd/76669\">Pink Floyd</a></td><td class=\"tal qx fsl\">7:16</td><td class=\"tal\"> </td></tr>,\n",
       " <tr><td class=\"tal qx fsl\">3</td><td class=\"tal qx fsl\">37</td><td class=\"tal qx fsl\"><div><strong><a href=\"/lyric/33768223/Arnold+Layne+%5BPromo+Video%5D+%5BMultimedia+Track%5D\">Arnold Layne [Promo Video] [Multimedia Track]</a></strong></div></td><td class=\"tal qx fsl\"><a href=\"artist/Syd-Barrett/3631\">Syd Barrett</a>, <a href=\"artist/Pink-Floyd/76669\">Pink Floyd</a></td><td class=\"tal qx fsl\">2:54</td><td class=\"tal\"> </td></tr>,\n",
       " <tr><td class=\"tal qx fsl\">3</td><td class=\"tal qx fsl\">42</td><td class=\"tal qx fsl\"><div><strong><a href=\"/lyric/33768218/Jugband+Blues+%5BLondon+Line%5D\">Jugband Blues [London Line]</a></strong></div></td><td class=\"tal qx fsl\"><a href=\"artist/Pink-Floyd/76669\">Pink Floyd</a></td><td class=\"tal qx fsl\">2:58</td><td class=\"tal\"> </td></tr>,\n",
       " <tr><td class=\"tal qx fsl\">3</td><td class=\"tal qx fsl\">43</td><td class=\"tal qx fsl\"><div><strong><a href=\"/lyric/33768217/Apples+and+Oranges+%5BAmerican+Bandstand%5D+%5B%2A%5D\">Apples and Oranges [American Bandstand] [*]</a></strong></div></td><td class=\"tal qx fsl\"><a href=\"artist/Syd-Barrett/3631\">Syd Barrett</a>, <a href=\"artist/Pink-Floyd/76669\">Pink Floyd</a></td><td class=\"tal qx fsl\">3:00</td><td class=\"tal\"> </td></tr>,\n",
       " <tr><td class=\"tal qx fsl\">4</td><td class=\"tal qx fsl\">40</td><td class=\"tal qx fsl\"><div><strong><a href=\"/lyric/33768204/Astronomy+Domine+%28The+Look+of+the+Week%29\">Astronomy Domine (The Look of the Week)</a></strong></div></td><td class=\"tal qx fsl\"><a href=\"artist/Pink-Floyd/76669\">Pink Floyd</a></td><td class=\"tal qx fsl\">9:22</td><td class=\"tal\"> </td></tr>,\n",
       " <tr><td class=\"tal qx fsl\">4</td><td class=\"tal qx fsl\">47</td><td class=\"tal qx fsl\"><div><strong><a href=\"/lyric/33768197/See+Emily+Play+%28Top+of+the+Pops%29\">See Emily Play (Top of the Pops)</a></strong></div></td><td class=\"tal qx fsl\"><a href=\"artist/Syd-Barrett/3631\">Syd Barrett</a>, <a href=\"artist/Pink-Floyd/76669\">Pink Floyd</a></td><td class=\"tal qx fsl\">2:55</td><td class=\"tal\"> </td></tr>,\n",
       " <tr><td class=\"tal qx fsl\">4</td><td class=\"tal qx fsl\">53</td><td class=\"tal qx fsl\"><div><strong><a href=\"/lyric/33768207/Arnold+Layne+%5BPromo+Video%5D\">Arnold Layne [Promo Video]</a></strong></div></td><td class=\"tal qx fsl\"><a href=\"artist/Syd-Barrett/3631\">Syd Barrett</a>, <a href=\"artist/Pink-Floyd/76669\">Pink Floyd</a></td><td class=\"tal qx fsl\">2:54</td><td class=\"tal\"> </td></tr>,\n",
       " <tr><td class=\"tal qx fsl\">4</td><td class=\"tal qx fsl\">58</td><td class=\"tal qx fsl\"><div><strong><a href=\"/lyric/33768202/Jugband+Blues+%28London+Line%29\">Jugband Blues (London Line)</a></strong></div></td><td class=\"tal qx fsl\"><a href=\"artist/Pink-Floyd/76669\">Pink Floyd</a></td><td class=\"tal qx fsl\">2:58</td><td class=\"tal\"> </td></tr>,\n",
       " <tr><td class=\"tal qx fsl\">4</td><td class=\"tal qx fsl\">59</td><td class=\"tal qx fsl\"><div><strong><a href=\"/lyric/33768201/Apples+and+Oranges+%28American+Bandstand%29\">Apples and Oranges (American Bandstand)</a></strong></div></td><td class=\"tal qx fsl\"><a href=\"artist/Syd-Barrett/3631\">Syd Barrett</a>, <a href=\"artist/Pink-Floyd/76669\">Pink Floyd</a></td><td class=\"tal qx fsl\">3:00</td><td class=\"tal\"> </td></tr>]"
      ]
     },
     "execution_count": 6,
     "metadata": {},
     "output_type": "execute_result"
    }
   ],
   "source": [
    "pink_links = pink_soup.find(name='table', class_= 'tdata').find_all('tr')\n",
    "type(pink_links)\n",
    "pink_links"
   ]
  },
  {
   "cell_type": "code",
   "execution_count": 7,
   "id": "febf71dd",
   "metadata": {},
   "outputs": [
    {
     "name": "stdout",
     "output_type": "stream",
     "text": [
      "['/lyric/33768259/Lucy+Leave\"', '/lyric/33768258/Double+O+Bo\"', '/lyric/33768257/Remember+Me\"', '/lyric/33768256/Walk+With+Me+Sydney\"', '/lyric/33768244/Butterfly\"', '/lyric/33768255/I%27m+a+King+Bee\"', '/lyric/33768254/Arnold+Layne\"', '/lyric/33768253/See+Emily+Play\"', '/lyric/33768252/Apples+and+Oranges\"', '/lyric/33768251/Candy+and+a+Currant+Bun\"', '/lyric/33768250/Paintbox\"', '/lyric/33768249/Matilda+Mother+%5B2010+Mix%5D\"', '/lyric/33768248/Jugband+Blues+%5B2010+Mix%5D+%5B%23%5D\"', '/lyric/33768246/Vegetable+Man+%5B2010+Mix%5D+%5B%23%5D\"', '/lyric/33768245/Scream+Thy+Last+Scream+%5B2010+Mix%5D+%5B%23%5D\"', '/lyric/33768243/Introduction+%5BLive+in+Stockholm%2C+1967%5D+%5BLive%5D%5B%23%5D\"', '/lyric/33768238/Set+the+Controls+for+the+Heart+of+the+Sun+%5BLive+in+Stockholm%2C+1967%5D+%5BLi\"', '/lyric/33768223/Arnold+Layne+%5BPromo+Video%5D+%5BMultimedia+Track%5D\"', '/lyric/33768218/Jugband+Blues+%5BLondon+Line%5D\"', '/lyric/33768217/Apples+and+Oranges+%5BAmerican+Bandstand%5D+%5B%2A%5D\"', '/lyric/33768204/Astronomy+Domine+%28The+Look+of+the+Week%29\"', '/lyric/33768197/See+Emily+Play+%28Top+of+the+Pops%29\"', '/lyric/33768207/Arnold+Layne+%5BPromo+Video%5D\"', '/lyric/33768202/Jugband+Blues+%28London+Line%29\"', '/lyric/33768201/Apples+and+Oranges+%28American+Bandstand%29\"']\n"
     ]
    }
   ],
   "source": [
    "pattern='''/lyric/[^>]*\"'''\n",
    "song_links_2 = []\n",
    "for pink_link in pink_links:\n",
    "    pink_link_str = str(pink_link) \n",
    "    song_link_2 = re.findall(pattern, pink_link_str, re.DOTALL)\n",
    "    song_links_2 += song_link_2\n",
    "print(song_links_2)"
   ]
  },
  {
   "cell_type": "code",
   "execution_count": 8,
   "id": "6bc311a7",
   "metadata": {},
   "outputs": [
    {
     "data": {
      "text/plain": [
       "'/lyric/33768258/Double+O+Bo\"'"
      ]
     },
     "execution_count": 8,
     "metadata": {},
     "output_type": "execute_result"
    }
   ],
   "source": [
    "song_links_2[1]"
   ]
  },
  {
   "cell_type": "code",
   "execution_count": 11,
   "id": "b4da411e",
   "metadata": {},
   "outputs": [
    {
     "name": "stdout",
     "output_type": "stream",
     "text": [
      "['Leave when I ask you to leave, Lucy', 'Please fall away from me, Lucy', 'Oh, go, little girl', \"See that I'm so broken up about you, Lucy\", \"Mean treatin' me and done me harm, Lucy\", 'Been in love with you and your charms, Lucy', 'Oh, go, little girl', \"I'm in love with you, Lucy\", 'You got my heart, you got my heart, oh no', \"You tear me apart, you just won't let me go\", \"You hold on so tight, so tight I just can't breathe\", 'Now Lucy leave, Lucy', 'Leave when I ask you to leave, little girl', 'Please fall away from me, little girl', 'Yeah, go, little girl', \"See that I'm so broke up about you, Lucy\", 'Yeah, girl']\n",
      "['Bo Diddley was a private eye', 'Hand was fast and his I.Q. high', 'D.A. said \"Double O, you won\\'t last', 'Slow down boy, you living too fast\"', 'Well, Double O had a Cadillac', 'Machine guns and a bullet-proof back', 'Engine taken from a 707', 'Sounds like a sure way to get into heaven', 'In his pocket, 5 pounds of lead', 'To keep Bo Diddley from getting dead', 'Another thing helped Bo keeping alive', 'Was a snub-nosed, Smith And Wesson, Colt 45', 'Well, Bo drank gallons of rye and bourbon', \"Martini's dry, and you better serve them\", 'Martini so dry, the shaker burst', 'Bo keeled on his side and died of thirst']\n",
      "['Remember me (aaaaah-ha)', \"I've been here before\", 'Remember me (aaaaah-ha)', \"I've been here before\", \"Can't you see\", \"I'm gonna stick around some more\", \"Can't you see (aaaaah-ha)\", 'I want some love from you', \"Can't you see (aaaaah-ha)\", 'I want some love from you', \"Don't go away now\", \"I've got something to give to you\", \"I'll try to be (aaaaa-ha)\", 'As good as gold to you', 'Try to be (aaaaa-ha)', 'As good as gold to you', \"But don't blame me, girl\", \"If I'm far from cold to you\", 'Remember me (aaaaa-ha)', \"I've been here before\", 'Remember me (aaaaa-ha)', \"I've been here before\", \"Don't go away now\", 'Come and stick around some more', 'Yeah']\n",
      "['Oh oh oh walk with me, Sydney', 'I’d love to, love to, love to, baby you know', 'Oh oh oh walk with me, Sydney', 'I’d love to, love to, love to, love to', 'Walk with me, Sydney, it’s a dark night', 'Come on, come on, hold me tight', 'Well, I’d love to, love to, love to', 'But I got flat feet, fallen arches', 'Baggy knees and a broken frame', 'Meningitis, peritonitis', \"Dt's and a washed-up brain \", 'Oh oh oh roll with me, Sydney', 'I’d love to, love to, love to, baby you know', 'Oh oh oh roll with me, Sydney', 'I’d love to, love to, love to, love to', 'Roll with me, Sydney, it’s a dark night', 'Hold me, hold me, hold me tight', 'Well, I’d love to, love to, love to', 'But I got flat feet, fallen arches', 'Baggy knees and a broken frame', 'Meningitis, peritonitis', \"Dt's and a washed-up brain\", 'Oh oh oh walk with me, Sydney', 'I’d love to, love to, love to, baby you know', 'Oh oh oh walk with me, Sydney', 'I’d love to, love to, love to, love to', 'Walk with me, Sydney, it’s a dark night', 'Come on, come on, hold me tight', 'Well, I’d love to, love to, love to', 'But I got flat feet, fallen arches', 'Baggy knees and a broken frame', 'Meningitis, peritonitis', \"Dt's and a washed-up brain\"]\n",
      "['Listen, all you girlies', \"Even though I haven't met you\", 'Gonna catch you soon', 'In my butterfly net', \"You'd better watch out\", 'Sometimes when I watch you', 'I stretch out my hand to touch you', \"'Cause it drives me wild\", 'To see you flutter by', 'You butterfly', \"I won't squeeze you dead\", 'Aiming through your head', 'I just want your love', \"I won't writen your name\", 'In Latin in the rain', \"'Cause raining it's a shame\", 'Listen, all you girlies', \"Even though I haven't met you\", 'Gonna catch you soon', 'In my butterfly net', \"You'd better watch out\"]\n",
      "['Arnold Layne ', 'Had a strange hobby', 'Collecting clothes', 'Moonshine washing line', 'They suit him fine', 'On the wall ', 'Hung a tall mirror', 'Distorted view', 'See through baby blue', 'He done it, oh, Arnold Layne', \"It's not the same, \", 'It takes two to know', 'Two to know ', 'Two to know', 'Two to know', \"Why can't you see?\", 'Arnold Layne ', 'Arnold Layne ', 'Arnold Layne, Arnold Layne', \"Now he's caught\", 'A nasty sort of person', 'They gave him time', 'Doors bang, chain gang ', 'He hates it', 'Oh, Arnold Layne', \"It's not the same \", 'It takes two to know', 'Two to know ', 'Two to know', 'Two to know', \"Why can't you see?\", 'Arnold Layne ', 'Arnold Layne', 'Arnold Layne', \"Arnold Layne, don't do it again\"]\n",
      "['Got a flip-top pack of cigarettes in her pocket', 'Feeling good at the top', 'Shopping in sharp shoes', 'Walking in the sunshine town ', 'Feeling very cool', 'But the butchers and the bakers in the supermarket stores', 'Getting everything she wants from the supermarket stores', 'Apples and oranges', 'Apples and oranges', 'Cornering neatly she trips up sweetly', 'To meet the people', \"She's on time again\", 'And then', 'I catch her by the eye', 'Then I stop and have to think', \"What a funny thing to do 'cause I'm feeling very pink\", 'Apples and oranges', 'Apples and oranges', 'I love, she', 'She loves me', 'See you', 'See you', 'See you', 'Thought you might like to know', \"I'm the lorry driver man\", \"She's on the run\", 'Down by the river side', 'Feeding ducks by the afternoon tide', 'Apples and oranges', 'Apples and oranges', 'Apples and oranges']\n",
      "['Oh, my girl sitting in the sky', 'Go buy candy and a currant bun', 'I like to see you run', 'Lay back', \"Don't talk to me\", 'Please, just f*ck with me', \"Please, you know I'm feeling frail\", \"It's true, sun shining very bright\", \"It's you, I'm gonna love tonight\", 'Ice cream tastes good in the afternoon', 'Ice cream tastes good if you eat it soon', \"Don't touch me child\", 'Please, know you drive me wild', \"Please you know, I'm feeling frail\", \"Don't try another cat\", \"Don't go where other you must know why\", 'Very, very, very frail', 'Oh, my girl sitting in the sun', 'Go buy candy and a currant bun', 'I like to see you run', 'Like that']\n",
      "['Last night I had too much to drink', 'Sitting in a club with so many fools', 'Playing to rules', 'Trying to impress but feeling rather empty', 'I had another drink', 'Drink, a, drink, a, drink, a, drink', 'What a way to spend that evening', 'They all turn up with their friends', 'Playing the game', 'But in the scene I should have been', 'Far away', 'Away, away, away, away, away', \"Getting up, I feel as if I'm remembering this scene before\", 'I open the door to an empty room', 'Then I forget', 'The telephone rings and someone speaks', 'She would very much like to go out to a show', \"So what can I do, I can't think what to say\", 'She sees through anyway', 'Away, away, away, away, away', 'Out of the front door I go', \"Traffic's moving rather slow\", 'Arriving late, there she waits', 'Looking very angry, as cross as she can be', 'Be, a, be, a, be, a, be, a, be', \"Getting up, I feel as if I'm remembering this scene before\", 'I open the door to an empty room', 'Then I forget']\n",
      "['Yeah, back on the sauce', \"So I'd like you to be nice\", \"'Cause I'm nice, the Pink Floyd are nice\", 'And give these boys a real big hand of applause', 'And a great welcome to Sweden', 'So everybody put your hands together', 'I love you, I love you, I love you, I love you', 'All you need is love', 'P-I-N-K-F-L-O-Y-D']\n",
      "['Arnold Layne ', 'Had a strange hobby', 'Collecting clothes', 'Moonshine washing line', 'They suit him fine', 'On the wall ', 'Hung a tall mirror', 'Distorted view', 'See through baby blue', 'He done it, oh, Arnold Layne', \"It's not the same, \", 'It takes two to know', 'Two to know ', 'Two to know', 'Two to know', \"Why can't you see?\", 'Arnold Layne ', 'Arnold Layne ', 'Arnold Layne, Arnold Layne', \"Now he's caught\", 'A nasty sort of person', 'They gave him time', 'Doors bang, chain gang ', 'He hates it', 'Oh, Arnold Layne', \"It's not the same \", 'It takes two to know', 'Two to know ', 'Two to know', 'Two to know', \"Why can't you see?\", 'Arnold Layne ', 'Arnold Layne', 'Arnold Layne', \"Arnold Layne, don't do it again\"]\n",
      "['Got a flip-top pack of cigarettes in her pocket', 'Feeling good at the top', 'Shopping in sharp shoes', 'Walking in the sunshine town ', 'Feeling very cool', 'But the butchers and the bakers in the supermarket stores', 'Getting everything she wants from the supermarket stores', 'Apples and oranges', 'Apples and oranges', 'Cornering neatly she trips up sweetly', 'To meet the people', \"She's on time again\", 'And then', 'I catch her by the eye', 'Then I stop and have to think', \"What a funny thing to do 'cause I'm feeling very pink\", 'Apples and oranges', 'Apples and oranges', 'I love, she', 'She loves me', 'See you', 'See you', 'See you', 'Thought you might like to know', \"I'm the lorry driver man\", \"She's on the run\", 'Down by the river side', 'Feeding ducks by the afternoon tide', 'Apples and oranges', 'Apples and oranges', 'Apples and oranges']\n"
     ]
    },
    {
     "name": "stdout",
     "output_type": "stream",
     "text": [
      "['Lime and limpid green, a second scene', 'Now fights between the blue you once knew', 'Floating down, the sound resounds', 'Around the icy waters underground', 'Jupiter and Saturn, Oberon, Miranda and Titania', 'Neptune, Titan, stars can frighten', 'Blinding signs flap,', 'Flicker, flicker, flicker blam, pow, pow', \"Stairway scare, Dan Dare, who's there?\", 'Lime and limpid green, the sounds around', 'The icy waters under', 'Lime and limpid green, the sounds around', 'The icy waters underground']\n",
      "['Arnold Layne ', 'Had a strange hobby', 'Collecting clothes', 'Moonshine washing line', 'They suit him fine', 'On the wall ', 'Hung a tall mirror', 'Distorted view', 'See through baby blue', 'He done it, oh, Arnold Layne', \"It's not the same, \", 'It takes two to know', 'Two to know ', 'Two to know', 'Two to know', \"Why can't you see?\", 'Arnold Layne ', 'Arnold Layne ', 'Arnold Layne, Arnold Layne', \"Now he's caught\", 'A nasty sort of person', 'They gave him time', 'Doors bang, chain gang ', 'He hates it', 'Oh, Arnold Layne', \"It's not the same \", 'It takes two to know', 'Two to know ', 'Two to know', 'Two to know', \"Why can't you see?\", 'Arnold Layne ', 'Arnold Layne', 'Arnold Layne', \"Arnold Layne, don't do it again\"]\n",
      "['Got a flip-top pack of cigarettes in her pocket', 'Feeling good at the top', 'Shopping in sharp shoes', 'Walking in the sunshine town ', 'Feeling very cool', 'But the butchers and the bakers in the supermarket stores', 'Getting everything she wants from the supermarket stores', 'Apples and oranges', 'Apples and oranges', 'Cornering neatly she trips up sweetly', 'To meet the people', \"She's on time again\", 'And then', 'I catch her by the eye', 'Then I stop and have to think', \"What a funny thing to do 'cause I'm feeling very pink\", 'Apples and oranges', 'Apples and oranges', 'I love, she', 'She loves me', 'See you', 'See you', 'See you', 'Thought you might like to know', \"I'm the lorry driver man\", \"She's on the run\", 'Down by the river side', 'Feeding ducks by the afternoon tide', 'Apples and oranges', 'Apples and oranges', 'Apples and oranges']\n"
     ]
    }
   ],
   "source": [
    "from contextlib import suppress\n",
    "\n",
    "\n",
    "pink_lines = []\n",
    "for counter, link in enumerate(song_links_2):\n",
    "    with suppress(AttributeError):\n",
    "        url_2 = 'https://www.lyrics.com' + link\n",
    "        response_2 = requests.get(url_2, headers=headers)\n",
    "        response_html_2 = response_2.text\n",
    "        pink_soup=BeautifulSoup(\n",
    "            markup=response_html_2,\n",
    "            features='html.parser')\n",
    "        song_text_2 = pink_soup.find('pre',class_=\"lyric-body\").text\n",
    "        song_lines_2 = song_text_2.split(\"\\n\")\n",
    "        song_lines_2 = [line.strip(\"\\r\") for line in song_lines_2]\n",
    "        song_lines_2 = [line for line in song_lines_2 if len(line)>0]\n",
    "        print(song_lines_2)\n",
    "        pink_lines.extend(song_lines_2)\n",
    "\n"
   ]
  },
  {
   "cell_type": "code",
   "execution_count": 12,
   "id": "04113db8",
   "metadata": {},
   "outputs": [
    {
     "data": {
      "text/html": [
       "<div>\n",
       "<style scoped>\n",
       "    .dataframe tbody tr th:only-of-type {\n",
       "        vertical-align: middle;\n",
       "    }\n",
       "\n",
       "    .dataframe tbody tr th {\n",
       "        vertical-align: top;\n",
       "    }\n",
       "\n",
       "    .dataframe thead th {\n",
       "        text-align: right;\n",
       "    }\n",
       "</style>\n",
       "<table border=\"1\" class=\"dataframe\">\n",
       "  <thead>\n",
       "    <tr style=\"text-align: right;\">\n",
       "      <th></th>\n",
       "      <th>song_lines</th>\n",
       "    </tr>\n",
       "  </thead>\n",
       "  <tbody>\n",
       "    <tr>\n",
       "      <th>0</th>\n",
       "      <td>Leave when I ask you to leave, Lucy</td>\n",
       "    </tr>\n",
       "    <tr>\n",
       "      <th>1</th>\n",
       "      <td>Please fall away from me, Lucy</td>\n",
       "    </tr>\n",
       "    <tr>\n",
       "      <th>2</th>\n",
       "      <td>Oh, go, little girl</td>\n",
       "    </tr>\n",
       "    <tr>\n",
       "      <th>3</th>\n",
       "      <td>See that I'm so broken up about you, Lucy</td>\n",
       "    </tr>\n",
       "    <tr>\n",
       "      <th>4</th>\n",
       "      <td>Mean treatin' me and done me harm, Lucy</td>\n",
       "    </tr>\n",
       "    <tr>\n",
       "      <th>...</th>\n",
       "      <td>...</td>\n",
       "    </tr>\n",
       "    <tr>\n",
       "      <th>376</th>\n",
       "      <td>Down by the river side</td>\n",
       "    </tr>\n",
       "    <tr>\n",
       "      <th>377</th>\n",
       "      <td>Feeding ducks by the afternoon tide</td>\n",
       "    </tr>\n",
       "    <tr>\n",
       "      <th>378</th>\n",
       "      <td>Apples and oranges</td>\n",
       "    </tr>\n",
       "    <tr>\n",
       "      <th>379</th>\n",
       "      <td>Apples and oranges</td>\n",
       "    </tr>\n",
       "    <tr>\n",
       "      <th>380</th>\n",
       "      <td>Apples and oranges</td>\n",
       "    </tr>\n",
       "  </tbody>\n",
       "</table>\n",
       "<p>381 rows × 1 columns</p>\n",
       "</div>"
      ],
      "text/plain": [
       "                                    song_lines\n",
       "0          Leave when I ask you to leave, Lucy\n",
       "1               Please fall away from me, Lucy\n",
       "2                          Oh, go, little girl\n",
       "3    See that I'm so broken up about you, Lucy\n",
       "4      Mean treatin' me and done me harm, Lucy\n",
       "..                                         ...\n",
       "376                     Down by the river side\n",
       "377        Feeding ducks by the afternoon tide\n",
       "378                         Apples and oranges\n",
       "379                         Apples and oranges\n",
       "380                         Apples and oranges\n",
       "\n",
       "[381 rows x 1 columns]"
      ]
     },
     "execution_count": 12,
     "metadata": {},
     "output_type": "execute_result"
    }
   ],
   "source": [
    "pink_df = pd.DataFrame({'song_lines':pink_lines})\n",
    "pink_df"
   ]
  },
  {
   "cell_type": "code",
   "execution_count": 13,
   "id": "7d6f4805",
   "metadata": {},
   "outputs": [
    {
     "data": {
      "text/html": [
       "<div>\n",
       "<style scoped>\n",
       "    .dataframe tbody tr th:only-of-type {\n",
       "        vertical-align: middle;\n",
       "    }\n",
       "\n",
       "    .dataframe tbody tr th {\n",
       "        vertical-align: top;\n",
       "    }\n",
       "\n",
       "    .dataframe thead th {\n",
       "        text-align: right;\n",
       "    }\n",
       "</style>\n",
       "<table border=\"1\" class=\"dataframe\">\n",
       "  <thead>\n",
       "    <tr style=\"text-align: right;\">\n",
       "      <th></th>\n",
       "      <th>song_lines</th>\n",
       "      <th>singer</th>\n",
       "    </tr>\n",
       "  </thead>\n",
       "  <tbody>\n",
       "    <tr>\n",
       "      <th>0</th>\n",
       "      <td>Leave when I ask you to leave, Lucy</td>\n",
       "      <td>pink_floyd</td>\n",
       "    </tr>\n",
       "    <tr>\n",
       "      <th>1</th>\n",
       "      <td>Please fall away from me, Lucy</td>\n",
       "      <td>pink_floyd</td>\n",
       "    </tr>\n",
       "    <tr>\n",
       "      <th>2</th>\n",
       "      <td>Oh, go, little girl</td>\n",
       "      <td>pink_floyd</td>\n",
       "    </tr>\n",
       "    <tr>\n",
       "      <th>3</th>\n",
       "      <td>See that I'm so broken up about you, Lucy</td>\n",
       "      <td>pink_floyd</td>\n",
       "    </tr>\n",
       "    <tr>\n",
       "      <th>4</th>\n",
       "      <td>Mean treatin' me and done me harm, Lucy</td>\n",
       "      <td>pink_floyd</td>\n",
       "    </tr>\n",
       "    <tr>\n",
       "      <th>...</th>\n",
       "      <td>...</td>\n",
       "      <td>...</td>\n",
       "    </tr>\n",
       "    <tr>\n",
       "      <th>376</th>\n",
       "      <td>Down by the river side</td>\n",
       "      <td>pink_floyd</td>\n",
       "    </tr>\n",
       "    <tr>\n",
       "      <th>377</th>\n",
       "      <td>Feeding ducks by the afternoon tide</td>\n",
       "      <td>pink_floyd</td>\n",
       "    </tr>\n",
       "    <tr>\n",
       "      <th>378</th>\n",
       "      <td>Apples and oranges</td>\n",
       "      <td>pink_floyd</td>\n",
       "    </tr>\n",
       "    <tr>\n",
       "      <th>379</th>\n",
       "      <td>Apples and oranges</td>\n",
       "      <td>pink_floyd</td>\n",
       "    </tr>\n",
       "    <tr>\n",
       "      <th>380</th>\n",
       "      <td>Apples and oranges</td>\n",
       "      <td>pink_floyd</td>\n",
       "    </tr>\n",
       "  </tbody>\n",
       "</table>\n",
       "<p>381 rows × 2 columns</p>\n",
       "</div>"
      ],
      "text/plain": [
       "                                    song_lines      singer\n",
       "0          Leave when I ask you to leave, Lucy  pink_floyd\n",
       "1               Please fall away from me, Lucy  pink_floyd\n",
       "2                          Oh, go, little girl  pink_floyd\n",
       "3    See that I'm so broken up about you, Lucy  pink_floyd\n",
       "4      Mean treatin' me and done me harm, Lucy  pink_floyd\n",
       "..                                         ...         ...\n",
       "376                     Down by the river side  pink_floyd\n",
       "377        Feeding ducks by the afternoon tide  pink_floyd\n",
       "378                         Apples and oranges  pink_floyd\n",
       "379                         Apples and oranges  pink_floyd\n",
       "380                         Apples and oranges  pink_floyd\n",
       "\n",
       "[381 rows x 2 columns]"
      ]
     },
     "execution_count": 13,
     "metadata": {},
     "output_type": "execute_result"
    }
   ],
   "source": [
    "pink_df[\"singer\"] = \"pink_floyd\"\n",
    "pink_df"
   ]
  },
  {
   "cell_type": "code",
   "execution_count": 14,
   "id": "3b1102a0",
   "metadata": {},
   "outputs": [],
   "source": [
    "pink_df.to_csv(\"pink_floyd_corpus.csv\")\n"
   ]
  },
  {
   "cell_type": "code",
   "execution_count": null,
   "id": "be38cab6",
   "metadata": {},
   "outputs": [],
   "source": []
  }
 ],
 "metadata": {
  "kernelspec": {
   "display_name": "Python 3 (ipykernel)",
   "language": "python",
   "name": "python3"
  },
  "language_info": {
   "codemirror_mode": {
    "name": "ipython",
    "version": 3
   },
   "file_extension": ".py",
   "mimetype": "text/x-python",
   "name": "python",
   "nbconvert_exporter": "python",
   "pygments_lexer": "ipython3",
   "version": "3.10.9"
  }
 },
 "nbformat": 4,
 "nbformat_minor": 5
}
