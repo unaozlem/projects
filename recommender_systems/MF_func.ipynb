{
 "cells": [
  {
   "cell_type": "code",
   "execution_count": 7,
   "id": "21da04f3",
   "metadata": {},
   "outputs": [],
   "source": [
    "import numpy as np\n",
    "import pandas as pd\n",
    "\n",
    "import sklearn\n",
    "from sklearn.decomposition import NMF \n",
    "\n",
    "from scipy.sparse import csr_matrix\n",
    "\n",
    "import pickle"
   ]
  },
  {
   "cell_type": "code",
   "execution_count": 8,
   "id": "16708cd4",
   "metadata": {},
   "outputs": [
    {
     "data": {
      "text/html": [
       "<div>\n",
       "<style scoped>\n",
       "    .dataframe tbody tr th:only-of-type {\n",
       "        vertical-align: middle;\n",
       "    }\n",
       "\n",
       "    .dataframe tbody tr th {\n",
       "        vertical-align: top;\n",
       "    }\n",
       "\n",
       "    .dataframe thead th {\n",
       "        text-align: right;\n",
       "    }\n",
       "</style>\n",
       "<table border=\"1\" class=\"dataframe\">\n",
       "  <thead>\n",
       "    <tr style=\"text-align: right;\">\n",
       "      <th></th>\n",
       "      <th>title</th>\n",
       "    </tr>\n",
       "  </thead>\n",
       "  <tbody>\n",
       "    <tr>\n",
       "      <th>0</th>\n",
       "      <td>Toy Story (1995)</td>\n",
       "    </tr>\n",
       "    <tr>\n",
       "      <th>2</th>\n",
       "      <td>Grumpier Old Men (1995)</td>\n",
       "    </tr>\n",
       "    <tr>\n",
       "      <th>5</th>\n",
       "      <td>Heat (1995)</td>\n",
       "    </tr>\n",
       "    <tr>\n",
       "      <th>43</th>\n",
       "      <td>Seven (a.k.a. Se7en) (1995)</td>\n",
       "    </tr>\n",
       "    <tr>\n",
       "      <th>46</th>\n",
       "      <td>Usual Suspects, The (1995)</td>\n",
       "    </tr>\n",
       "    <tr>\n",
       "      <th>...</th>\n",
       "      <td>...</td>\n",
       "    </tr>\n",
       "    <tr>\n",
       "      <th>1435</th>\n",
       "      <td>Terms of Endearment (1983)</td>\n",
       "    </tr>\n",
       "    <tr>\n",
       "      <th>2968</th>\n",
       "      <td>Little Nicky (2000)</td>\n",
       "    </tr>\n",
       "    <tr>\n",
       "      <th>3158</th>\n",
       "      <td>Joe Dirt (2001)</td>\n",
       "    </tr>\n",
       "    <tr>\n",
       "      <th>2249</th>\n",
       "      <td>RoboCop 2 (1990)</td>\n",
       "    </tr>\n",
       "    <tr>\n",
       "      <th>1488</th>\n",
       "      <td>Poseidon Adventure, The (1972)</td>\n",
       "    </tr>\n",
       "  </tbody>\n",
       "</table>\n",
       "<p>1235 rows × 1 columns</p>\n",
       "</div>"
      ],
      "text/plain": [
       "                               title\n",
       "0                   Toy Story (1995)\n",
       "2            Grumpier Old Men (1995)\n",
       "5                        Heat (1995)\n",
       "43       Seven (a.k.a. Se7en) (1995)\n",
       "46        Usual Suspects, The (1995)\n",
       "...                              ...\n",
       "1435      Terms of Endearment (1983)\n",
       "2968             Little Nicky (2000)\n",
       "3158                 Joe Dirt (2001)\n",
       "2249                RoboCop 2 (1990)\n",
       "1488  Poseidon Adventure, The (1972)\n",
       "\n",
       "[1235 rows x 1 columns]"
      ]
     },
     "execution_count": 8,
     "metadata": {},
     "output_type": "execute_result"
    }
   ],
   "source": [
    "R_df = pd.read_csv(\"./data/movie_matrix.csv\", index_col=0)\n",
    "movies_title_df = pd.read_csv(\"./data/movie_title.csv\", index_col=0)\n",
    "movies_title_df\n"
   ]
  },
  {
   "cell_type": "code",
   "execution_count": null,
   "id": "3534cd6d",
   "metadata": {},
   "outputs": [],
   "source": []
  },
  {
   "cell_type": "code",
   "execution_count": 9,
   "id": "0711d1f1",
   "metadata": {},
   "outputs": [],
   "source": [
    "with open('nmf_model1.pkl','rb') as file:\n",
    "    loaded_model = pickle.load(file)"
   ]
  },
  {
   "cell_type": "code",
   "execution_count": 10,
   "id": "03cfa1b2",
   "metadata": {},
   "outputs": [],
   "source": [
    "def recommend_nmf(query, model, k=10):\n",
    "    \"\"\"\n",
    "    Filters and recommends the top k movies for any given input query based on a trained NMF model. \n",
    "    Returns a list of k movie ids.\n",
    "    \"\"\"\n",
    "    \n",
    "    # 1. construct new_user-item dataframe given the query\n",
    "    new_user_df =  pd.DataFrame(query, columns=movies_title_df[\"title\"], index=[\"new_user\"]).fillna(0)\n",
    "\n",
    "    # 2. scoring\n",
    "    \n",
    "        # calculate the score with the NMF model\n",
    "    Q_matrix = model.components_\n",
    "    Q = pd.DataFrame(Q_matrix)\n",
    "    P_new_user_matrix = loaded_model.transform(new_user_df)\n",
    "    R_hat_new_user_matrix = np.dot(P_new_user_matrix, Q)\n",
    "    R_hat_new_user = pd.DataFrame(data=R_hat_new_user_matrix,\n",
    "                         columns=movies_title_df[\"title\"],\n",
    "                         index = ['new_user'])\n",
    "\n",
    "    # 3. ranking\n",
    "    \n",
    "        # filter out movies already seen by the user\n",
    "    R_hat_new_user_filtered=R_hat_new_user.drop(query.keys(), axis=1)\n",
    "    ranked = R_hat_new_user_filtered.T.sort_values(by=[\"new_user\"], ascending=False).index.to_list()\n",
    "\n",
    "        # return the top-k highest rated movie ids or titles\n",
    "    recommendation = ranked[:3]\n",
    "    return recommendation"
   ]
  },
  {
   "cell_type": "code",
   "execution_count": 11,
   "id": "23180837",
   "metadata": {},
   "outputs": [],
   "source": [
    "query = {\"Toy Story (1995)\": 5,\n",
    "                 \"Grumpier Old Men (1995)\":2,\n",
    "                 \"Heat (1995)\":3.5}"
   ]
  },
  {
   "cell_type": "code",
   "execution_count": 12,
   "id": "4e39f6e9",
   "metadata": {},
   "outputs": [
    {
     "name": "stdout",
     "output_type": "stream",
     "text": [
      "violation: 1.0\n",
      "violation: 2.437198153353398\n",
      "violation: 1.4315237694339609\n",
      "violation: 0.21879880887531608\n",
      "violation: 0.1556572184061561\n",
      "violation: 0.06178911069071979\n",
      "violation: 0.016458718854186236\n",
      "violation: 0.009224578270520093\n",
      "violation: 0.00233012395092348\n",
      "violation: 0.0009454354827115188\n",
      "violation: 0.0007042513193686026\n",
      "violation: 0.00018168095090319352\n",
      "violation: 2.6945226310217965e-05\n",
      "Converged at iteration 14\n"
     ]
    },
    {
     "data": {
      "text/plain": [
       "['Rock, The (1996)', 'Trainspotting (1996)', 'Broken Arrow (1996)']"
      ]
     },
     "execution_count": 12,
     "metadata": {},
     "output_type": "execute_result"
    }
   ],
   "source": [
    "recommend_nmf(query, loaded_model, k=10)"
   ]
  },
  {
   "cell_type": "code",
   "execution_count": null,
   "id": "32e02727",
   "metadata": {},
   "outputs": [],
   "source": []
  },
  {
   "cell_type": "code",
   "execution_count": null,
   "id": "4b84cbab",
   "metadata": {},
   "outputs": [],
   "source": []
  }
 ],
 "metadata": {
  "kernelspec": {
   "display_name": "Python 3 (ipykernel)",
   "language": "python",
   "name": "python3"
  },
  "language_info": {
   "codemirror_mode": {
    "name": "ipython",
    "version": 3
   },
   "file_extension": ".py",
   "mimetype": "text/x-python",
   "name": "python",
   "nbconvert_exporter": "python",
   "pygments_lexer": "ipython3",
   "version": "3.10.11"
  }
 },
 "nbformat": 4,
 "nbformat_minor": 5
}
