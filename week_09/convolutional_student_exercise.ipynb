{
 "cells": [
  {
   "cell_type": "markdown",
   "metadata": {},
   "source": [
    "# Convolutional Neural Networks \n",
    "---"
   ]
  },
  {
   "cell_type": "markdown",
   "metadata": {},
   "source": [
    "#### Example CNN"
   ]
  },
  {
   "cell_type": "markdown",
   "metadata": {},
   "source": [
    "The typical architecture of CNNs has a couple of convolutional layers, followed by _fully connected_ layer, i.e. feed forward NN."
   ]
  },
  {
   "cell_type": "markdown",
   "metadata": {},
   "source": [
    "In some of the most famous CNN architectures it is common to alternate convolutional and pooling layers, like this. Shown below is one of the classical CNN architecture, LeNet-5."
   ]
  },
  {
   "cell_type": "markdown",
   "metadata": {},
   "source": [
    "<img src='cnn_with_poolin.jpeg' >"
   ]
  },
  {
   "cell_type": "markdown",
   "metadata": {},
   "source": [
    "## CNNs in Keras"
   ]
  },
  {
   "cell_type": "code",
   "execution_count": 1,
   "metadata": {},
   "outputs": [
    {
     "name": "stderr",
     "output_type": "stream",
     "text": [
      "2023-05-24 11:05:31.587998: I tensorflow/core/platform/cpu_feature_guard.cc:182] This TensorFlow binary is optimized to use available CPU instructions in performance-critical operations.\n",
      "To enable the following instructions: AVX2 FMA, in other operations, rebuild TensorFlow with the appropriate compiler flags.\n"
     ]
    }
   ],
   "source": [
    "from tensorflow.keras import backend as K\n",
    "import tensorflow.keras as tk\n",
    "from tensorflow.keras.datasets import mnist, fashion_mnist,cifar10\n",
    "from tensorflow.keras.models import Sequential, Model\n",
    "from tensorflow.keras.layers import Conv2D, Dense, MaxPooling2D, Flatten, BatchNormalization,Dropout\n",
    "from tensorflow.keras.utils import to_categorical\n",
    "from tensorflow.keras.callbacks import EarlyStopping\n",
    "\n",
    "from matplotlib import pyplot as plt\n",
    "import numpy as np\n",
    "import pandas as pd"
   ]
  },
  {
   "cell_type": "markdown",
   "metadata": {},
   "source": [
    "### Preprocess the data:"
   ]
  },
  {
   "cell_type": "code",
   "execution_count": 2,
   "metadata": {},
   "outputs": [],
   "source": [
    "# Load data:\n",
    "(xtrain,ytrain),(xtest,ytest) = mnist.load_data()"
   ]
  },
  {
   "cell_type": "code",
   "execution_count": 3,
   "metadata": {},
   "outputs": [
    {
     "data": {
      "text/plain": [
       "((60000, 28, 28), (60000,), (10000, 28, 28), (10000,))"
      ]
     },
     "execution_count": 3,
     "metadata": {},
     "output_type": "execute_result"
    }
   ],
   "source": [
    "# Check shapes:\n",
    "xtrain.shape, ytrain.shape, xtest.shape, ytest.shape"
   ]
  },
  {
   "cell_type": "code",
   "execution_count": 4,
   "metadata": {},
   "outputs": [],
   "source": [
    "# To feed the images in a CNN we need to reshape our X data to the format \n",
    "# (batch/sample, width, heigth, channels):\n",
    "# The mnist data are black and white images so we need just 1 color channel\n",
    "\n",
    "Xtrain = xtrain.reshape(60000, 28, 28,1)\n",
    "Xtest = xtest.reshape(10000, 28, 28,1)"
   ]
  },
  {
   "cell_type": "code",
   "execution_count": 5,
   "metadata": {},
   "outputs": [
    {
     "name": "stdout",
     "output_type": "stream",
     "text": [
      "Xtrain shape: (60000, 28, 28, 1)\n",
      "60000 train samples\n",
      "10000 test samples\n",
      "(28, 28, 1) image shape\n",
      "ytrain shape: (60000,)\n"
     ]
    }
   ],
   "source": [
    "# Always keep checking shapes:\n",
    "print('Xtrain shape:', Xtrain.shape)\n",
    "print(Xtrain.shape[0], 'train samples')\n",
    "print(Xtest.shape[0], 'test samples')\n",
    "print(Xtrain[0].shape, 'image shape')\n",
    "print('ytrain shape:', ytrain.shape)"
   ]
  },
  {
   "cell_type": "code",
   "execution_count": 6,
   "metadata": {
    "tags": []
   },
   "outputs": [
    {
     "data": {
      "text/plain": [
       "array([[[[0],\n",
       "         [0],\n",
       "         [0],\n",
       "         ...,\n",
       "         [0],\n",
       "         [0],\n",
       "         [0]],\n",
       "\n",
       "        [[0],\n",
       "         [0],\n",
       "         [0],\n",
       "         ...,\n",
       "         [0],\n",
       "         [0],\n",
       "         [0]],\n",
       "\n",
       "        [[0],\n",
       "         [0],\n",
       "         [0],\n",
       "         ...,\n",
       "         [0],\n",
       "         [0],\n",
       "         [0]],\n",
       "\n",
       "        ...,\n",
       "\n",
       "        [[0],\n",
       "         [0],\n",
       "         [0],\n",
       "         ...,\n",
       "         [0],\n",
       "         [0],\n",
       "         [0]],\n",
       "\n",
       "        [[0],\n",
       "         [0],\n",
       "         [0],\n",
       "         ...,\n",
       "         [0],\n",
       "         [0],\n",
       "         [0]],\n",
       "\n",
       "        [[0],\n",
       "         [0],\n",
       "         [0],\n",
       "         ...,\n",
       "         [0],\n",
       "         [0],\n",
       "         [0]]],\n",
       "\n",
       "\n",
       "       [[[0],\n",
       "         [0],\n",
       "         [0],\n",
       "         ...,\n",
       "         [0],\n",
       "         [0],\n",
       "         [0]],\n",
       "\n",
       "        [[0],\n",
       "         [0],\n",
       "         [0],\n",
       "         ...,\n",
       "         [0],\n",
       "         [0],\n",
       "         [0]],\n",
       "\n",
       "        [[0],\n",
       "         [0],\n",
       "         [0],\n",
       "         ...,\n",
       "         [0],\n",
       "         [0],\n",
       "         [0]],\n",
       "\n",
       "        ...,\n",
       "\n",
       "        [[0],\n",
       "         [0],\n",
       "         [0],\n",
       "         ...,\n",
       "         [0],\n",
       "         [0],\n",
       "         [0]],\n",
       "\n",
       "        [[0],\n",
       "         [0],\n",
       "         [0],\n",
       "         ...,\n",
       "         [0],\n",
       "         [0],\n",
       "         [0]],\n",
       "\n",
       "        [[0],\n",
       "         [0],\n",
       "         [0],\n",
       "         ...,\n",
       "         [0],\n",
       "         [0],\n",
       "         [0]]],\n",
       "\n",
       "\n",
       "       [[[0],\n",
       "         [0],\n",
       "         [0],\n",
       "         ...,\n",
       "         [0],\n",
       "         [0],\n",
       "         [0]],\n",
       "\n",
       "        [[0],\n",
       "         [0],\n",
       "         [0],\n",
       "         ...,\n",
       "         [0],\n",
       "         [0],\n",
       "         [0]],\n",
       "\n",
       "        [[0],\n",
       "         [0],\n",
       "         [0],\n",
       "         ...,\n",
       "         [0],\n",
       "         [0],\n",
       "         [0]],\n",
       "\n",
       "        ...,\n",
       "\n",
       "        [[0],\n",
       "         [0],\n",
       "         [0],\n",
       "         ...,\n",
       "         [0],\n",
       "         [0],\n",
       "         [0]],\n",
       "\n",
       "        [[0],\n",
       "         [0],\n",
       "         [0],\n",
       "         ...,\n",
       "         [0],\n",
       "         [0],\n",
       "         [0]],\n",
       "\n",
       "        [[0],\n",
       "         [0],\n",
       "         [0],\n",
       "         ...,\n",
       "         [0],\n",
       "         [0],\n",
       "         [0]]],\n",
       "\n",
       "\n",
       "       ...,\n",
       "\n",
       "\n",
       "       [[[0],\n",
       "         [0],\n",
       "         [0],\n",
       "         ...,\n",
       "         [0],\n",
       "         [0],\n",
       "         [0]],\n",
       "\n",
       "        [[0],\n",
       "         [0],\n",
       "         [0],\n",
       "         ...,\n",
       "         [0],\n",
       "         [0],\n",
       "         [0]],\n",
       "\n",
       "        [[0],\n",
       "         [0],\n",
       "         [0],\n",
       "         ...,\n",
       "         [0],\n",
       "         [0],\n",
       "         [0]],\n",
       "\n",
       "        ...,\n",
       "\n",
       "        [[0],\n",
       "         [0],\n",
       "         [0],\n",
       "         ...,\n",
       "         [0],\n",
       "         [0],\n",
       "         [0]],\n",
       "\n",
       "        [[0],\n",
       "         [0],\n",
       "         [0],\n",
       "         ...,\n",
       "         [0],\n",
       "         [0],\n",
       "         [0]],\n",
       "\n",
       "        [[0],\n",
       "         [0],\n",
       "         [0],\n",
       "         ...,\n",
       "         [0],\n",
       "         [0],\n",
       "         [0]]],\n",
       "\n",
       "\n",
       "       [[[0],\n",
       "         [0],\n",
       "         [0],\n",
       "         ...,\n",
       "         [0],\n",
       "         [0],\n",
       "         [0]],\n",
       "\n",
       "        [[0],\n",
       "         [0],\n",
       "         [0],\n",
       "         ...,\n",
       "         [0],\n",
       "         [0],\n",
       "         [0]],\n",
       "\n",
       "        [[0],\n",
       "         [0],\n",
       "         [0],\n",
       "         ...,\n",
       "         [0],\n",
       "         [0],\n",
       "         [0]],\n",
       "\n",
       "        ...,\n",
       "\n",
       "        [[0],\n",
       "         [0],\n",
       "         [0],\n",
       "         ...,\n",
       "         [0],\n",
       "         [0],\n",
       "         [0]],\n",
       "\n",
       "        [[0],\n",
       "         [0],\n",
       "         [0],\n",
       "         ...,\n",
       "         [0],\n",
       "         [0],\n",
       "         [0]],\n",
       "\n",
       "        [[0],\n",
       "         [0],\n",
       "         [0],\n",
       "         ...,\n",
       "         [0],\n",
       "         [0],\n",
       "         [0]]],\n",
       "\n",
       "\n",
       "       [[[0],\n",
       "         [0],\n",
       "         [0],\n",
       "         ...,\n",
       "         [0],\n",
       "         [0],\n",
       "         [0]],\n",
       "\n",
       "        [[0],\n",
       "         [0],\n",
       "         [0],\n",
       "         ...,\n",
       "         [0],\n",
       "         [0],\n",
       "         [0]],\n",
       "\n",
       "        [[0],\n",
       "         [0],\n",
       "         [0],\n",
       "         ...,\n",
       "         [0],\n",
       "         [0],\n",
       "         [0]],\n",
       "\n",
       "        ...,\n",
       "\n",
       "        [[0],\n",
       "         [0],\n",
       "         [0],\n",
       "         ...,\n",
       "         [0],\n",
       "         [0],\n",
       "         [0]],\n",
       "\n",
       "        [[0],\n",
       "         [0],\n",
       "         [0],\n",
       "         ...,\n",
       "         [0],\n",
       "         [0],\n",
       "         [0]],\n",
       "\n",
       "        [[0],\n",
       "         [0],\n",
       "         [0],\n",
       "         ...,\n",
       "         [0],\n",
       "         [0],\n",
       "         [0]]]], dtype=uint8)"
      ]
     },
     "execution_count": 6,
     "metadata": {},
     "output_type": "execute_result"
    }
   ],
   "source": [
    "Xtrain"
   ]
  },
  {
   "cell_type": "code",
   "execution_count": 8,
   "metadata": {
    "tags": []
   },
   "outputs": [
    {
     "data": {
      "image/png": "[encoded data removed]",
      "text/plain": [
       "<Figure size 1600x1600 with 25 Axes>"
      ]
     },
     "metadata": {},
     "output_type": "display_data"
    }
   ],
   "source": [
    "# plot the train images  with the labels\n",
    "plt.figure(figsize=(16,16))\n",
    "for i in range(25):\n",
    "    plt.subplot(5, 5, i+1,title=f'Number: {ytrain[i]}')\n",
    "    plt.imshow(xtrain[i],cmap='gray')\n",
    "    plt.axis('off')"
   ]
  },
  {
   "cell_type": "code",
   "execution_count": null,
   "metadata": {},
   "outputs": [],
   "source": []
  },
  {
   "cell_type": "code",
   "execution_count": 9,
   "metadata": {},
   "outputs": [],
   "source": [
    "# The labels are 10 numbers (0...9) we transform it into 10 classes \n",
    "# ytrain, ytest from number to categorical/dummies\n",
    "\n",
    "ytrain_cat = to_categorical(ytrain)\n",
    "ytest_cat = to_categorical(ytrain)"
   ]
  },
  {
   "cell_type": "code",
   "execution_count": 10,
   "metadata": {},
   "outputs": [
    {
     "data": {
      "text/plain": [
       "(60000, 10)"
      ]
     },
     "execution_count": 10,
     "metadata": {},
     "output_type": "execute_result"
    }
   ],
   "source": [
    "ytrain_cat.shape"
   ]
  },
  {
   "cell_type": "code",
   "execution_count": 11,
   "metadata": {},
   "outputs": [
    {
     "data": {
      "text/plain": [
       "array([[0., 0., 0., ..., 0., 0., 0.],\n",
       "       [1., 0., 0., ..., 0., 0., 0.],\n",
       "       [0., 0., 0., ..., 0., 0., 0.],\n",
       "       ...,\n",
       "       [0., 0., 0., ..., 0., 0., 0.],\n",
       "       [0., 0., 0., ..., 0., 0., 0.],\n",
       "       [0., 0., 0., ..., 0., 1., 0.]], dtype=float32)"
      ]
     },
     "execution_count": 11,
     "metadata": {},
     "output_type": "execute_result"
    }
   ],
   "source": [
    "ytrain_cat"
   ]
  },
  {
   "cell_type": "code",
   "execution_count": 12,
   "metadata": {
    "tags": []
   },
   "outputs": [
    {
     "data": {
      "text/plain": [
       "(array([5, 0, 4, ..., 5, 6, 8]), array([5, 0, 4, ..., 5, 6, 8]))"
      ]
     },
     "execution_count": 12,
     "metadata": {},
     "output_type": "execute_result"
    }
   ],
   "source": [
    "# from categorical to number\n",
    "np.argmax(ytrain_cat,axis=1),np.argmax(ytest_cat,axis=1)"
   ]
  },
  {
   "cell_type": "code",
   "execution_count": 13,
   "metadata": {},
   "outputs": [
    {
     "name": "stdout",
     "output_type": "stream",
     "text": [
      "After preprocessing also y:\n",
      "\n",
      "Xtrain shape: (60000, 28, 28, 1)\n",
      "60000 train samples\n",
      "10000 test samples\n",
      "(28, 28, 1) image shape\n",
      "ytrain cat shape: (60000, 10)\n"
     ]
    }
   ],
   "source": [
    "print('After preprocessing also y:\\n')\n",
    "print('Xtrain shape:', Xtrain.shape)\n",
    "print(Xtrain.shape[0], 'train samples')\n",
    "print(Xtest.shape[0], 'test samples')\n",
    "print(Xtrain[0].shape, 'image shape')\n",
    "print('ytrain cat shape:', ytrain_cat.shape)"
   ]
  },
  {
   "cell_type": "markdown",
   "metadata": {},
   "source": [
    "#### LeNet-5 in Keras"
   ]
  },
  {
   "cell_type": "markdown",
   "metadata": {},
   "source": [
    "Implement LeNet-5 architecture from above. \n",
    "\n",
    "Use `relu` activation function for convolutional and fully-connected (dense) layers, and `softmax` for the output layer.\n",
    "\n",
    "Q: How do we deal with the fact that our images (28x28) are smaller than the input images in LeNet-t (32, 32)?"
   ]
  },
  {
   "cell_type": "markdown",
   "metadata": {},
   "source": [
    "Links to layers documentation:\n",
    "+ [Conv2D](https://keras.io/api/layers/convolution_layers/convolution2d/)\n",
    "+ [MaxPooling2D](https://keras.io/api/layers/pooling_layers/max_pooling2d/)\n",
    "+ [Flatten](https://keras.io/api/layers/reshaping_layers/flatten/)\n",
    "+ [Dense](https://keras.io/api/layers/core_layers/dense/)\n",
    "+ [Weight Initializers](https://keras.io/api/layers/initializers/)\n",
    "+ [Activation Functions](https://keras.io/api/layers/activations/)\n"
   ]
  },
  {
   "cell_type": "markdown",
   "metadata": {
    "tags": []
   },
   "source": [
    "<img src='cnn_with_poolin.jpeg' width=600 heigth=600>"
   ]
  },
  {
   "cell_type": "code",
   "execution_count": 44,
   "metadata": {},
   "outputs": [],
   "source": [
    "### Implement LeNet-5 architecture \n",
    "K.clear_session()\n",
    "model = Sequential([\n",
    "    \n",
    "    ### Convolutional layers\n",
    "    Conv2D(filters = 6 , kernel_size = (5,5), \n",
    "           strides = (1,1), padding = \"valid\", \n",
    "           activation = tk.activations.relu, input_shape = (28, 28, 1), # use relu\n",
    "           kernel_initializer=tk.initializers.GlorotNormal(seed=34)),  # how to initialise the model parameters\n",
    "           \n",
    "    \n",
    "    MaxPooling2D(pool_size = (2, 2), strides=(2, 2), padding = \"valid\"),\n",
    "    \n",
    "    Conv2D(filters = 16, kernel_size = (5, 5), \n",
    "           strides = (1, 1), padding = \"valid\" , \n",
    "           activation = tk.activations.relu, input_shape = (10, 10, 16),\n",
    "           kernel_initializer=tk.initializers.GlorotNormal(seed=34)) ,  # use relu\n",
    "            \n",
    "    \n",
    "    MaxPooling2D(pool_size = (2, 2), strides=(2, 2), padding = \"valid\"),\n",
    "    \n",
    "    ### Fully connected layers for classification\n",
    "    \n",
    "    Flatten(), # flatten value is 400 and that is given. We don't need to write here\n",
    "    \n",
    "    Dense(units=400, activation= \"relu\"),  # use relu # According to model this value should be 120 but we sat to that 400 to play around\n",
    "    \n",
    "    Dense(units=120, activation=tk.activations.relu), # use relu. This should be 84 according to the model.\n",
    "          \n",
    "    \n",
    "    \n",
    "    # Output layer\n",
    "    # think of how many categories we have to predict \n",
    "    Dense(units= 10, activation=tk.activations.softmax)\n",
    "])"
   ]
  },
  {
   "cell_type": "code",
   "execution_count": 45,
   "metadata": {},
   "outputs": [
    {
     "data": {
      "text/plain": [
       "<bound method Model.summary of <keras.engine.sequential.Sequential object at 0x7f8d23b3cd60>>"
      ]
     },
     "execution_count": 45,
     "metadata": {},
     "output_type": "execute_result"
    }
   ],
   "source": [
    "# Check the summary:\n",
    "model.summary"
   ]
  },
  {
   "cell_type": "markdown",
   "metadata": {},
   "source": [
    "+ [List of optimizers](https://keras.io/api/optimizers/)\n",
    "+ [List of Loss functions](https://keras.io/api/losses/)"
   ]
  },
  {
   "cell_type": "code",
   "execution_count": 46,
   "metadata": {},
   "outputs": [],
   "source": [
    "# Compile \n",
    "model.compile(optimizer=tk.optimizers.Adam(), # Adam()\n",
    "              loss=tk.losses.categorical_crossentropy, # multiclass: 'categorical_crossentropy' \n",
    "              metrics=['accuracy'])"
   ]
  },
  {
   "cell_type": "code",
   "execution_count": null,
   "metadata": {},
   "outputs": [],
   "source": []
  },
  {
   "cell_type": "code",
   "execution_count": 47,
   "metadata": {
    "scrolled": true
   },
   "outputs": [
    {
     "name": "stdout",
     "output_type": "stream",
     "text": [
      "Epoch 1/20\n",
      "800/800 [==============================] - 28s 32ms/step - loss: 0.5171 - accuracy: 0.9020 - val_loss: 0.1426 - val_accuracy: 0.9572\n",
      "Epoch 2/20\n",
      "800/800 [==============================] - 26s 32ms/step - loss: 0.1005 - accuracy: 0.9693 - val_loss: 0.1080 - val_accuracy: 0.9693\n",
      "Epoch 3/20\n",
      "800/800 [==============================] - 18s 22ms/step - loss: 0.0665 - accuracy: 0.9794 - val_loss: 0.0972 - val_accuracy: 0.9715\n",
      "Epoch 4/20\n",
      "800/800 [==============================] - 18s 22ms/step - loss: 0.0497 - accuracy: 0.9846 - val_loss: 0.0936 - val_accuracy: 0.9752\n",
      "Epoch 5/20\n",
      "800/800 [==============================] - 17s 21ms/step - loss: 0.0473 - accuracy: 0.9850 - val_loss: 0.0828 - val_accuracy: 0.9766\n",
      "Epoch 6/20\n",
      "800/800 [==============================] - 18s 23ms/step - loss: 0.0435 - accuracy: 0.9862 - val_loss: 0.0642 - val_accuracy: 0.9823\n",
      "Epoch 7/20\n",
      "800/800 [==============================] - 21s 27ms/step - loss: 0.0384 - accuracy: 0.9875 - val_loss: 0.0798 - val_accuracy: 0.9822\n",
      "Epoch 8/20\n",
      "800/800 [==============================] - 23s 29ms/step - loss: 0.0336 - accuracy: 0.9898 - val_loss: 0.0838 - val_accuracy: 0.9812\n",
      "Epoch 9/20\n",
      "800/800 [==============================] - 26s 32ms/step - loss: 0.0403 - accuracy: 0.9878 - val_loss: 0.0827 - val_accuracy: 0.9812\n",
      "Epoch 10/20\n",
      "800/800 [==============================] - 24s 30ms/step - loss: 0.0307 - accuracy: 0.9909 - val_loss: 0.0844 - val_accuracy: 0.9818\n",
      "Epoch 11/20\n",
      "800/800 [==============================] - 25s 32ms/step - loss: 0.0270 - accuracy: 0.9916 - val_loss: 0.0811 - val_accuracy: 0.9827\n",
      "Epoch 12/20\n",
      "800/800 [==============================] - 26s 32ms/step - loss: 0.0263 - accuracy: 0.9923 - val_loss: 0.0920 - val_accuracy: 0.9821\n",
      "Epoch 13/20\n",
      "800/800 [==============================] - 27s 34ms/step - loss: 0.0225 - accuracy: 0.9937 - val_loss: 0.0895 - val_accuracy: 0.9804\n",
      "Epoch 14/20\n",
      "800/800 [==============================] - 25s 31ms/step - loss: 0.0240 - accuracy: 0.9929 - val_loss: 0.0804 - val_accuracy: 0.9817\n",
      "Epoch 15/20\n",
      "800/800 [==============================] - 25s 32ms/step - loss: 0.0262 - accuracy: 0.9926 - val_loss: 0.0842 - val_accuracy: 0.9807\n",
      "Epoch 16/20\n",
      "800/800 [==============================] - 26s 32ms/step - loss: 0.0183 - accuracy: 0.9946 - val_loss: 0.1006 - val_accuracy: 0.9816\n",
      "Epoch 17/20\n",
      "800/800 [==============================] - 26s 33ms/step - loss: 0.0239 - accuracy: 0.9932 - val_loss: 0.0923 - val_accuracy: 0.9818\n",
      "Epoch 18/20\n",
      "800/800 [==============================] - 26s 33ms/step - loss: 0.0206 - accuracy: 0.9946 - val_loss: 0.0951 - val_accuracy: 0.9827\n",
      "Epoch 19/20\n",
      "800/800 [==============================] - 26s 32ms/step - loss: 0.0165 - accuracy: 0.9951 - val_loss: 0.1069 - val_accuracy: 0.9826\n",
      "Epoch 20/20\n",
      "800/800 [==============================] - 26s 33ms/step - loss: 0.0179 - accuracy: 0.9950 - val_loss: 0.1092 - val_accuracy: 0.9828\n"
     ]
    }
   ],
   "source": [
    "# Train the model\n",
    "history = model.fit(Xtrain, ytrain_cat, epochs=20,\n",
    "                    batch_size=60,\n",
    "                    validation_split = 0.2,\n",
    "                   )"
   ]
  },
  {
   "cell_type": "markdown",
   "metadata": {},
   "source": [
    "### Examine the model"
   ]
  },
  {
   "cell_type": "code",
   "execution_count": 48,
   "metadata": {
    "tags": []
   },
   "outputs": [
    {
     "data": {
      "text/plain": [
       "{'loss': [0.517090916633606,\n",
       "  0.10047732293605804,\n",
       "  0.06648903340101242,\n",
       "  0.049710046499967575,\n",
       "  0.04728957265615463,\n",
       "  0.04354483634233475,\n",
       "  0.03843187168240547,\n",
       "  0.033585142344236374,\n",
       "  0.04028145596385002,\n",
       "  0.03065190650522709,\n",
       "  0.027046646922826767,\n",
       "  0.026321202516555786,\n",
       "  0.02245759405195713,\n",
       "  0.023996800184249878,\n",
       "  0.02615521475672722,\n",
       "  0.018282312899827957,\n",
       "  0.023946411907672882,\n",
       "  0.020624011754989624,\n",
       "  0.016509078443050385,\n",
       "  0.017853759229183197],\n",
       " 'accuracy': [0.9020416736602783,\n",
       "  0.9693333506584167,\n",
       "  0.9793958067893982,\n",
       "  0.9846041798591614,\n",
       "  0.9850416779518127,\n",
       "  0.9862499833106995,\n",
       "  0.9874791502952576,\n",
       "  0.9897500276565552,\n",
       "  0.9877916574478149,\n",
       "  0.9909374713897705,\n",
       "  0.9915833473205566,\n",
       "  0.9922916889190674,\n",
       "  0.9937083125114441,\n",
       "  0.9929375052452087,\n",
       "  0.9926458597183228,\n",
       "  0.9946041703224182,\n",
       "  0.9932083487510681,\n",
       "  0.9945833086967468,\n",
       "  0.9950624704360962,\n",
       "  0.9950416684150696],\n",
       " 'val_loss': [0.14263080060482025,\n",
       "  0.10803455859422684,\n",
       "  0.09721134603023529,\n",
       "  0.09359504282474518,\n",
       "  0.08278294652700424,\n",
       "  0.06420602649450302,\n",
       "  0.07977256178855896,\n",
       "  0.08381079137325287,\n",
       "  0.08273647725582123,\n",
       "  0.08439252525568008,\n",
       "  0.08112132549285889,\n",
       "  0.0919852927327156,\n",
       "  0.08947303146123886,\n",
       "  0.08044490218162537,\n",
       "  0.08415721356868744,\n",
       "  0.10057374835014343,\n",
       "  0.0923275351524353,\n",
       "  0.09511306881904602,\n",
       "  0.10694355517625809,\n",
       "  0.10920129716396332],\n",
       " 'val_accuracy': [0.9572499990463257,\n",
       "  0.9692500233650208,\n",
       "  0.9714999794960022,\n",
       "  0.9751666784286499,\n",
       "  0.9765833616256714,\n",
       "  0.9823333621025085,\n",
       "  0.9822499752044678,\n",
       "  0.981249988079071,\n",
       "  0.981249988079071,\n",
       "  0.9818333387374878,\n",
       "  0.9827499985694885,\n",
       "  0.9820833206176758,\n",
       "  0.9804166555404663,\n",
       "  0.9816666841506958,\n",
       "  0.9806666374206543,\n",
       "  0.9815833568572998,\n",
       "  0.9817500114440918,\n",
       "  0.9827499985694885,\n",
       "  0.9825833439826965,\n",
       "  0.9828333258628845]}"
      ]
     },
     "execution_count": 48,
     "metadata": {},
     "output_type": "execute_result"
    }
   ],
   "source": [
    "history.history"
   ]
  },
  {
   "cell_type": "code",
   "execution_count": 49,
   "metadata": {
    "tags": []
   },
   "outputs": [
    {
     "data": {
      "text/plain": [
       "Text(0.5, 0, 'epochs')"
      ]
     },
     "execution_count": 49,
     "metadata": {},
     "output_type": "execute_result"
    },
    {
     "data": {
      "image/png": "[encoded data removed]",
      "text/plain": [
       "<Figure size 640x480 with 1 Axes>"
      ]
     },
     "metadata": {},
     "output_type": "display_data"
    }
   ],
   "source": [
    "# Plot loss and accuracy curves\n",
    "pd.DataFrame(data=history.history).plot()\n",
    "plt.grid(True)\n",
    "plt.xlabel('epochs')\n"
   ]
  },
  {
   "cell_type": "code",
   "execution_count": null,
   "metadata": {},
   "outputs": [],
   "source": []
  }
 ],
 "metadata": {
  "hide_input": false,
  "kernelspec": {
   "display_name": "Python 3 (ipykernel)",
   "language": "python",
   "name": "python3"
  },
  "language_info": {
   "codemirror_mode": {
    "name": "ipython",
    "version": 3
   },
   "file_extension": ".py",
   "mimetype": "text/x-python",
   "name": "python",
   "nbconvert_exporter": "python",
   "pygments_lexer": "ipython3",
   "version": "3.9.16"
  },
  "latex_envs": {
   "LaTeX_envs_menu_present": true,
   "autoclose": false,
   "autocomplete": true,
   "bibliofile": "biblio.bib",
   "cite_by": "apalike",
   "current_citInitial": 1,
   "eqLabelWithNumbers": true,
   "eqNumInitial": 1,
   "hotkeys": {
    "equation": "Ctrl-E",
    "itemize": "Ctrl-I"
   },
   "labels_anchors": false,
   "latex_user_defs": false,
   "report_style_numbering": false,
   "user_envs_cfg": false
  },
  "nbTranslate": {
   "displayLangs": [
    "*"
   ],
   "hotkey": "alt-t",
   "langInMainMenu": true,
   "sourceLang": "en",
   "targetLang": "fr",
   "useGoogleTranslate": true
  },
  "toc": {
   "base_numbering": 1,
   "nav_menu": {},
   "number_sections": true,
   "sideBar": true,
   "skip_h1_title": false,
   "title_cell": "Table of Contents",
   "title_sidebar": "Contents",
   "toc_cell": false,
   "toc_position": {},
   "toc_section_display": true,
   "toc_window_display": false
  },
  "varInspector": {
   "cols": {
    "lenName": 16,
    "lenType": 16,
    "lenVar": 40
   },
   "kernels_config": {
    "python": {
     "delete_cmd_postfix": "",
     "delete_cmd_prefix": "del ",
     "library": "var_list.py",
     "varRefreshCmd": "print(var_dic_list())"
    },
    "r": {
     "delete_cmd_postfix": ") ",
     "delete_cmd_prefix": "rm(",
     "library": "var_list.r",
     "varRefreshCmd": "cat(var_dic_list()) "
    }
   },
   "types_to_exclude": [
    "module",
    "function",
    "builtin_function_or_method",
    "instance",
    "_Feature"
   ],
   "window_display": false
  }
 },
 "nbformat": 4,
 "nbformat_minor": 4
}
