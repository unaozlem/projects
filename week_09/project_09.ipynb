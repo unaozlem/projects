{
 "cells": [
  {
   "cell_type": "markdown",
   "metadata": {},
   "source": [
    "# Transfer Learning\n",
    "<hr style=\"border:2px solid black\">"
   ]
  },
  {
   "cell_type": "markdown",
   "metadata": {},
   "source": [
    "## 1. Introduction"
   ]
  },
  {
   "cell_type": "markdown",
   "metadata": {},
   "source": [
    "**What is transfer learning?**\n",
    "- one of the most powerful ideas of deep learning\n",
    "- taking knowledge learned from one task, and leveraging it on a similar but new task"
   ]
  },
  {
   "cell_type": "markdown",
   "metadata": {},
   "source": [
    "**Why transfer learning?**\n",
    "- big pre-trained models can be leveraged\n",
    "- good accuracy with very little training (saves training time)\n",
    "- allows training with very small training datasets"
   ]
  },
  {
   "cell_type": "markdown",
   "metadata": {},
   "source": [
    "**When transfer learning for task-A$\\rightarrow$task-B useful?**\n",
    "- same input type for both tasks\n",
    "- big training data for task-A, but small training data for task-B\n",
    "- low-level features of task-A useful for learning task-B"
   ]
  },
  {
   "cell_type": "markdown",
   "metadata": {},
   "source": [
    "**How to implement transfer learning?**\n",
    "1. take a pre-trained network, and remove its last layer(s)\n",
    "2. replace the weights feeding into the last layer(s) with a new set of randomly intialized weights\n",
    "3. Add new trainable layer(s) on top of the remaining layers\n",
    "4. retrain the neural network on the new dataset; depending on dataset size:\n",
    "    - `pre-training`: retrain only the weights of the newly added layer(s), freeze all the other layers\n",
    "    - `fine tuning`: retrain the newly added layer(s) as well as some/all of the other layers"
   ]
  },
  {
   "cell_type": "markdown",
   "metadata": {},
   "source": [
    "<hr style=\"border:2px solid black\">"
   ]
  },
  {
   "cell_type": "markdown",
   "metadata": {},
   "source": [
    "## 2. Pre-trained Model"
   ]
  },
  {
   "cell_type": "markdown",
   "metadata": {},
   "source": [
    "### 2.1 Load packages"
   ]
  },
  {
   "cell_type": "code",
   "execution_count": 46,
   "metadata": {},
   "outputs": [],
   "source": [
    "# data analysis stack\n",
    "import numpy as np\n",
    "import pandas as pd\n",
    "\n",
    "# data visualization stack\n",
    "import matplotlib.pyplot as plt\n",
    "%matplotlib inline\n",
    "import seaborn as sns\n",
    "sns.set_style('whitegrid')\n",
    "\n",
    "# miscellaneous\n",
    "import warnings\n",
    "warnings.filterwarnings(\"ignore\")\n",
    "import os\n",
    "os.environ['TF_CPP_MIN_LOG_LEVEL'] = '3' \n",
    "\n",
    "# deep learning stack\n",
    "import tensorflow as tf\n",
    "from tensorflow import keras\n",
    "from tensorflow.keras.preprocessing import image"
   ]
  },
  {
   "cell_type": "code",
   "execution_count": 47,
   "metadata": {},
   "outputs": [
    {
     "name": "stdout",
     "output_type": "stream",
     "text": [
      "TensorFlow version: 2.12.0\n",
      "Keras version: 2.12.0\n"
     ]
    }
   ],
   "source": [
    "# tensorflow and keras version\n",
    "print(f'TensorFlow version: {tf.__version__}')\n",
    "print(f'Keras version: {keras.__version__}')"
   ]
  },
  {
   "cell_type": "markdown",
   "metadata": {},
   "source": [
    "### 2.2 Load model"
   ]
  },
  {
   "cell_type": "markdown",
   "metadata": {},
   "source": [
    "[`mobilenet_v2`](https://keras.io/api/applications/mobilenet/)"
   ]
  },
  {
   "cell_type": "code",
   "execution_count": 48,
   "metadata": {},
   "outputs": [],
   "source": [
    "from tensorflow.keras.applications.mobilenet_v2 import (\n",
    "    MobileNetV2,\n",
    "    preprocess_input,\n",
    "    decode_predictions\n",
    ")"
   ]
  },
  {
   "cell_type": "markdown",
   "metadata": {},
   "source": [
    "**instantiate model**"
   ]
  },
  {
   "cell_type": "code",
   "execution_count": 49,
   "metadata": {},
   "outputs": [],
   "source": [
    "pretrained_model = MobileNetV2(\n",
    "    weights='imagenet'\n",
    ")"
   ]
  },
  {
   "cell_type": "markdown",
   "metadata": {},
   "source": [
    "**model summary**"
   ]
  },
  {
   "cell_type": "code",
   "execution_count": null,
   "metadata": {},
   "outputs": [],
   "source": [
    "pretrained_model.summary()"
   ]
  },
  {
   "cell_type": "markdown",
   "metadata": {},
   "source": [
    "### 2.3 User-defined functions"
   ]
  },
  {
   "cell_type": "code",
   "execution_count": 50,
   "metadata": {},
   "outputs": [],
   "source": [
    "def load_image(image_path):\n",
    "    \"\"\"\n",
    "    loads an input image into PIL format of size 224 X 224\n",
    "    \"\"\"\n",
    "    img = image.load_img(\n",
    "        path=image_path,\n",
    "        target_size=(224,224)\n",
    "    )\n",
    "    return img"
   ]
  },
  {
   "cell_type": "code",
   "execution_count": 51,
   "metadata": {},
   "outputs": [],
   "source": [
    "def batch_image(loaded_image):\n",
    "    \"\"\"\n",
    "    converts a loaded image to a batch\n",
    "    \"\"\"\n",
    "    img_array = image.img_to_array(loaded_image)\n",
    "    img_batch = np.array([img_array])\n",
    "    \n",
    "    return img_batch"
   ]
  },
  {
   "cell_type": "code",
   "execution_count": 52,
   "metadata": {},
   "outputs": [],
   "source": [
    "def preprocess_image(batched_image):\n",
    "    \"\"\"\n",
    "    preprocesses a batch image to make suitable for mobilenet_v2\n",
    "    \"\"\"\n",
    "    processed_img = preprocess_input(batched_image)\n",
    "    \n",
    "    return processed_img"
   ]
  },
  {
   "cell_type": "code",
   "execution_count": 53,
   "metadata": {},
   "outputs": [],
   "source": [
    "def show_preprocess_image(image_path):\n",
    "    \"\"\"\n",
    "    shows loaded image given an image path, and\n",
    "    preprocesses it to make suitable for mobilenet_v2\n",
    "    \"\"\"\n",
    "    # load resized image\n",
    "    loaded_img = load_image(image_path)\n",
    "    \n",
    "    # display image\n",
    "    plt.figure(figsize=(3,3), dpi=100)\n",
    "    plt.imshow(loaded_img)\n",
    "    \n",
    "    # create batched image\n",
    "    batch_img = batch_image(loaded_img)\n",
    "    \n",
    "    # preprocess image\n",
    "    processed_img = preprocess_image(batch_img)\n",
    "    \n",
    "    return processed_img"
   ]
  },
  {
   "cell_type": "code",
   "execution_count": 54,
   "metadata": {},
   "outputs": [],
   "source": [
    "def image_class_prediction(model, preprocessed_image):\n",
    "    \"\"\"\n",
    "    spits out the top-5 predictions of a given model with a proprocessed image\n",
    "    \"\"\"\n",
    "    model_prediction = model.predict(preprocessed_image,verbose=0)\n",
    "    decoded_prediction = decode_predictions(model_prediction,top=5)[0]\n",
    "    data = {\n",
    "        'image_class': [_[1] for _ in decoded_prediction],\n",
    "        'probability': [_[2] for _ in decoded_prediction]\n",
    "    }\n",
    "    df = pd.DataFrame(data=data)\n",
    "    return df"
   ]
  },
  {
   "cell_type": "markdown",
   "metadata": {},
   "source": [
    "### 2.4 Model evaluation"
   ]
  },
  {
   "cell_type": "code",
   "execution_count": 55,
   "metadata": {},
   "outputs": [
    {
     "data": {
      "text/plain": [
       "['bananas', 'cellphones', 'spectacles', 'cups']"
      ]
     },
     "execution_count": 55,
     "metadata": {},
     "output_type": "execute_result"
    }
   ],
   "source": [
    "CLASSES = os.listdir('../data/train')\n",
    "CLASSES = ['bananas', 'cellphones', 'spectacles', 'cups']\n",
    "CLASSES"
   ]
  },
  {
   "cell_type": "code",
   "execution_count": 56,
   "metadata": {},
   "outputs": [
    {
     "data": {
      "image/png": "[encoded data removed]",
      "text/plain": [
       "<Figure size 300x300 with 1 Axes>"
      ]
     },
     "metadata": {},
     "output_type": "display_data"
    }
   ],
   "source": [
    "# show and preprocess image\n",
    "\n",
    "banana_image = show_preprocess_image(\n",
    "    '../data/test/bananas/bananas_03.jpg'\n",
    ")"
   ]
  },
  {
   "cell_type": "code",
   "execution_count": 57,
   "metadata": {
    "scrolled": true
   },
   "outputs": [
    {
     "data": {
      "text/html": [
       "<div>\n",
       "<style scoped>\n",
       "    .dataframe tbody tr th:only-of-type {\n",
       "        vertical-align: middle;\n",
       "    }\n",
       "\n",
       "    .dataframe tbody tr th {\n",
       "        vertical-align: top;\n",
       "    }\n",
       "\n",
       "    .dataframe thead th {\n",
       "        text-align: right;\n",
       "    }\n",
       "</style>\n",
       "<table border=\"1\" class=\"dataframe\">\n",
       "  <thead>\n",
       "    <tr style=\"text-align: right;\">\n",
       "      <th></th>\n",
       "      <th>image_class</th>\n",
       "      <th>probability</th>\n",
       "    </tr>\n",
       "  </thead>\n",
       "  <tbody>\n",
       "    <tr>\n",
       "      <th>0</th>\n",
       "      <td>banana</td>\n",
       "      <td>0.978275</td>\n",
       "    </tr>\n",
       "    <tr>\n",
       "      <th>1</th>\n",
       "      <td>butternut_squash</td>\n",
       "      <td>0.001825</td>\n",
       "    </tr>\n",
       "    <tr>\n",
       "      <th>2</th>\n",
       "      <td>flatworm</td>\n",
       "      <td>0.001224</td>\n",
       "    </tr>\n",
       "    <tr>\n",
       "      <th>3</th>\n",
       "      <td>slug</td>\n",
       "      <td>0.001086</td>\n",
       "    </tr>\n",
       "    <tr>\n",
       "      <th>4</th>\n",
       "      <td>hook</td>\n",
       "      <td>0.000564</td>\n",
       "    </tr>\n",
       "  </tbody>\n",
       "</table>\n",
       "</div>"
      ],
      "text/plain": [
       "        image_class  probability\n",
       "0            banana     0.978275\n",
       "1  butternut_squash     0.001825\n",
       "2          flatworm     0.001224\n",
       "3              slug     0.001086\n",
       "4              hook     0.000564"
      ]
     },
     "execution_count": 57,
     "metadata": {},
     "output_type": "execute_result"
    }
   ],
   "source": [
    "# class prediction\n",
    "\n",
    "image_class_prediction(\n",
    "    pretrained_model,\n",
    "    banana_image\n",
    ")"
   ]
  },
  {
   "cell_type": "markdown",
   "metadata": {},
   "source": [
    "## 3. Transfer Learning Example"
   ]
  },
  {
   "cell_type": "code",
   "execution_count": 58,
   "metadata": {},
   "outputs": [],
   "source": [
    "# instantiate image data generator\n",
    "\n",
    "data_gen = image.ImageDataGenerator(\n",
    "    # preprocessing function for all images\n",
    "    preprocessing_function=preprocess_input\n",
    ")"
   ]
  },
  {
   "cell_type": "code",
   "execution_count": 59,
   "metadata": {},
   "outputs": [
    {
     "name": "stdout",
     "output_type": "stream",
     "text": [
      "Found 400 images belonging to 4 classes.\n"
     ]
    }
   ],
   "source": [
    "# generate batches of x and y arrays from directory\n",
    "\n",
    "train_data_gen = data_gen.flow_from_directory(\n",
    "        directory='../data/train',\n",
    "        class_mode=\"categorical\",\n",
    "        classes=CLASSES,\n",
    "        batch_size=400,\n",
    "        target_size=(224,224)\n",
    ")"
   ]
  },
  {
   "cell_type": "code",
   "execution_count": 60,
   "metadata": {},
   "outputs": [
    {
     "data": {
      "text/plain": [
       "((400, 224, 224, 3), (400, 4))"
      ]
     },
     "execution_count": 60,
     "metadata": {},
     "output_type": "execute_result"
    }
   ],
   "source": [
    "# load in all images at once\n",
    "\n",
    "xtrain, ytrain = next(train_data_gen)\n",
    "xtrain.shape, ytrain.shape"
   ]
  },
  {
   "cell_type": "markdown",
   "metadata": {},
   "source": [
    "### 3.1 Model Building "
   ]
  },
  {
   "cell_type": "markdown",
   "metadata": {},
   "source": [
    "**3.1.1 Select convolutional base with frozen weights**"
   ]
  },
  {
   "cell_type": "code",
   "execution_count": 61,
   "metadata": {},
   "outputs": [],
   "source": [
    "# define base model\n",
    "\n",
    "BASE_MODEL = MobileNetV2(\n",
    "    weights='imagenet', \n",
    "    alpha=1.0,          # controls number of overall weights\n",
    "    include_top=False,  # removal of final dense layers\n",
    "    pooling='avg',      # average pooling to last convolutional layer's ouput\n",
    "    input_shape=(224,224,3) # ignored if input tensor is provided\n",
    ")"
   ]
  },
  {
   "cell_type": "code",
   "execution_count": 62,
   "metadata": {},
   "outputs": [],
   "source": [
    "# freeze base model\n",
    "BASE_MODEL.trainable = False"
   ]
  },
  {
   "cell_type": "code",
   "execution_count": 63,
   "metadata": {},
   "outputs": [
    {
     "name": "stdout",
     "output_type": "stream",
     "text": [
      "Model: \"mobilenetv2_1.00_224\"\n",
      "__________________________________________________________________________________________________\n",
      " Layer (type)                   Output Shape         Param #     Connected to                     \n",
      "==================================================================================================\n",
      " input_4 (InputLayer)           [(None, 224, 224, 3  0           []                               \n",
      "                                )]                                                                \n",
      "                                                                                                  \n",
      " Conv1 (Conv2D)                 (None, 112, 112, 32  864         ['input_4[0][0]']                \n",
      "                                )                                                                 \n",
      "                                                                                                  \n",
      " bn_Conv1 (BatchNormalization)  (None, 112, 112, 32  128         ['Conv1[0][0]']                  \n",
      "                                )                                                                 \n",
      "                                                                                                  \n",
      " Conv1_relu (ReLU)              (None, 112, 112, 32  0           ['bn_Conv1[0][0]']               \n",
      "                                )                                                                 \n",
      "                                                                                                  \n",
      " expanded_conv_depthwise (Depth  (None, 112, 112, 32  288        ['Conv1_relu[0][0]']             \n",
      " wiseConv2D)                    )                                                                 \n",
      "                                                                                                  \n",
      " expanded_conv_depthwise_BN (Ba  (None, 112, 112, 32  128        ['expanded_conv_depthwise[0][0]']\n",
      " tchNormalization)              )                                                                 \n",
      "                                                                                                  \n",
      " expanded_conv_depthwise_relu (  (None, 112, 112, 32  0          ['expanded_conv_depthwise_BN[0][0\n",
      " ReLU)                          )                                ]']                              \n",
      "                                                                                                  \n",
      " expanded_conv_project (Conv2D)  (None, 112, 112, 16  512        ['expanded_conv_depthwise_relu[0]\n",
      "                                )                                [0]']                            \n",
      "                                                                                                  \n",
      " expanded_conv_project_BN (Batc  (None, 112, 112, 16  64         ['expanded_conv_project[0][0]']  \n",
      " hNormalization)                )                                                                 \n",
      "                                                                                                  \n",
      " block_1_expand (Conv2D)        (None, 112, 112, 96  1536        ['expanded_conv_project_BN[0][0]'\n",
      "                                )                                ]                                \n",
      "                                                                                                  \n",
      " block_1_expand_BN (BatchNormal  (None, 112, 112, 96  384        ['block_1_expand[0][0]']         \n",
      " ization)                       )                                                                 \n",
      "                                                                                                  \n",
      " block_1_expand_relu (ReLU)     (None, 112, 112, 96  0           ['block_1_expand_BN[0][0]']      \n",
      "                                )                                                                 \n",
      "                                                                                                  \n",
      " block_1_pad (ZeroPadding2D)    (None, 113, 113, 96  0           ['block_1_expand_relu[0][0]']    \n",
      "                                )                                                                 \n",
      "                                                                                                  \n",
      " block_1_depthwise (DepthwiseCo  (None, 56, 56, 96)  864         ['block_1_pad[0][0]']            \n",
      " nv2D)                                                                                            \n",
      "                                                                                                  \n",
      " block_1_depthwise_BN (BatchNor  (None, 56, 56, 96)  384         ['block_1_depthwise[0][0]']      \n",
      " malization)                                                                                      \n",
      "                                                                                                  \n",
      " block_1_depthwise_relu (ReLU)  (None, 56, 56, 96)   0           ['block_1_depthwise_BN[0][0]']   \n",
      "                                                                                                  \n",
      " block_1_project (Conv2D)       (None, 56, 56, 24)   2304        ['block_1_depthwise_relu[0][0]'] \n",
      "                                                                                                  \n",
      " block_1_project_BN (BatchNorma  (None, 56, 56, 24)  96          ['block_1_project[0][0]']        \n",
      " lization)                                                                                        \n",
      "                                                                                                  \n",
      " block_2_expand (Conv2D)        (None, 56, 56, 144)  3456        ['block_1_project_BN[0][0]']     \n",
      "                                                                                                  \n",
      " block_2_expand_BN (BatchNormal  (None, 56, 56, 144)  576        ['block_2_expand[0][0]']         \n",
      " ization)                                                                                         \n",
      "                                                                                                  \n",
      " block_2_expand_relu (ReLU)     (None, 56, 56, 144)  0           ['block_2_expand_BN[0][0]']      \n",
      "                                                                                                  \n",
      " block_2_depthwise (DepthwiseCo  (None, 56, 56, 144)  1296       ['block_2_expand_relu[0][0]']    \n",
      " nv2D)                                                                                            \n",
      "                                                                                                  \n",
      " block_2_depthwise_BN (BatchNor  (None, 56, 56, 144)  576        ['block_2_depthwise[0][0]']      \n",
      " malization)                                                                                      \n",
      "                                                                                                  \n",
      " block_2_depthwise_relu (ReLU)  (None, 56, 56, 144)  0           ['block_2_depthwise_BN[0][0]']   \n",
      "                                                                                                  \n",
      " block_2_project (Conv2D)       (None, 56, 56, 24)   3456        ['block_2_depthwise_relu[0][0]'] \n",
      "                                                                                                  \n",
      " block_2_project_BN (BatchNorma  (None, 56, 56, 24)  96          ['block_2_project[0][0]']        \n",
      " lization)                                                                                        \n",
      "                                                                                                  \n",
      " block_2_add (Add)              (None, 56, 56, 24)   0           ['block_1_project_BN[0][0]',     \n",
      "                                                                  'block_2_project_BN[0][0]']     \n",
      "                                                                                                  \n",
      " block_3_expand (Conv2D)        (None, 56, 56, 144)  3456        ['block_2_add[0][0]']            \n",
      "                                                                                                  \n",
      " block_3_expand_BN (BatchNormal  (None, 56, 56, 144)  576        ['block_3_expand[0][0]']         \n",
      " ization)                                                                                         \n",
      "                                                                                                  \n",
      " block_3_expand_relu (ReLU)     (None, 56, 56, 144)  0           ['block_3_expand_BN[0][0]']      \n",
      "                                                                                                  \n",
      " block_3_pad (ZeroPadding2D)    (None, 57, 57, 144)  0           ['block_3_expand_relu[0][0]']    \n",
      "                                                                                                  \n",
      " block_3_depthwise (DepthwiseCo  (None, 28, 28, 144)  1296       ['block_3_pad[0][0]']            \n",
      " nv2D)                                                                                            \n",
      "                                                                                                  \n",
      " block_3_depthwise_BN (BatchNor  (None, 28, 28, 144)  576        ['block_3_depthwise[0][0]']      \n",
      " malization)                                                                                      \n",
      "                                                                                                  \n",
      " block_3_depthwise_relu (ReLU)  (None, 28, 28, 144)  0           ['block_3_depthwise_BN[0][0]']   \n",
      "                                                                                                  \n",
      " block_3_project (Conv2D)       (None, 28, 28, 32)   4608        ['block_3_depthwise_relu[0][0]'] \n",
      "                                                                                                  \n",
      " block_3_project_BN (BatchNorma  (None, 28, 28, 32)  128         ['block_3_project[0][0]']        \n",
      " lization)                                                                                        \n",
      "                                                                                                  \n",
      " block_4_expand (Conv2D)        (None, 28, 28, 192)  6144        ['block_3_project_BN[0][0]']     \n",
      "                                                                                                  \n",
      " block_4_expand_BN (BatchNormal  (None, 28, 28, 192)  768        ['block_4_expand[0][0]']         \n",
      " ization)                                                                                         \n",
      "                                                                                                  \n",
      " block_4_expand_relu (ReLU)     (None, 28, 28, 192)  0           ['block_4_expand_BN[0][0]']      \n",
      "                                                                                                  \n",
      " block_4_depthwise (DepthwiseCo  (None, 28, 28, 192)  1728       ['block_4_expand_relu[0][0]']    \n",
      " nv2D)                                                                                            \n",
      "                                                                                                  \n",
      " block_4_depthwise_BN (BatchNor  (None, 28, 28, 192)  768        ['block_4_depthwise[0][0]']      \n",
      " malization)                                                                                      \n",
      "                                                                                                  \n",
      " block_4_depthwise_relu (ReLU)  (None, 28, 28, 192)  0           ['block_4_depthwise_BN[0][0]']   \n",
      "                                                                                                  \n",
      " block_4_project (Conv2D)       (None, 28, 28, 32)   6144        ['block_4_depthwise_relu[0][0]'] \n",
      "                                                                                                  \n",
      " block_4_project_BN (BatchNorma  (None, 28, 28, 32)  128         ['block_4_project[0][0]']        \n",
      " lization)                                                                                        \n",
      "                                                                                                  \n",
      " block_4_add (Add)              (None, 28, 28, 32)   0           ['block_3_project_BN[0][0]',     \n",
      "                                                                  'block_4_project_BN[0][0]']     \n",
      "                                                                                                  \n",
      " block_5_expand (Conv2D)        (None, 28, 28, 192)  6144        ['block_4_add[0][0]']            \n",
      "                                                                                                  \n",
      " block_5_expand_BN (BatchNormal  (None, 28, 28, 192)  768        ['block_5_expand[0][0]']         \n",
      " ization)                                                                                         \n",
      "                                                                                                  \n",
      " block_5_expand_relu (ReLU)     (None, 28, 28, 192)  0           ['block_5_expand_BN[0][0]']      \n",
      "                                                                                                  \n",
      " block_5_depthwise (DepthwiseCo  (None, 28, 28, 192)  1728       ['block_5_expand_relu[0][0]']    \n",
      " nv2D)                                                                                            \n",
      "                                                                                                  \n",
      " block_5_depthwise_BN (BatchNor  (None, 28, 28, 192)  768        ['block_5_depthwise[0][0]']      \n",
      " malization)                                                                                      \n",
      "                                                                                                  \n",
      " block_5_depthwise_relu (ReLU)  (None, 28, 28, 192)  0           ['block_5_depthwise_BN[0][0]']   \n",
      "                                                                                                  \n",
      " block_5_project (Conv2D)       (None, 28, 28, 32)   6144        ['block_5_depthwise_relu[0][0]'] \n",
      "                                                                                                  \n",
      " block_5_project_BN (BatchNorma  (None, 28, 28, 32)  128         ['block_5_project[0][0]']        \n",
      " lization)                                                                                        \n",
      "                                                                                                  \n",
      " block_5_add (Add)              (None, 28, 28, 32)   0           ['block_4_add[0][0]',            \n",
      "                                                                  'block_5_project_BN[0][0]']     \n",
      "                                                                                                  \n",
      " block_6_expand (Conv2D)        (None, 28, 28, 192)  6144        ['block_5_add[0][0]']            \n",
      "                                                                                                  \n",
      " block_6_expand_BN (BatchNormal  (None, 28, 28, 192)  768        ['block_6_expand[0][0]']         \n",
      " ization)                                                                                         \n",
      "                                                                                                  \n",
      " block_6_expand_relu (ReLU)     (None, 28, 28, 192)  0           ['block_6_expand_BN[0][0]']      \n",
      "                                                                                                  \n",
      " block_6_pad (ZeroPadding2D)    (None, 29, 29, 192)  0           ['block_6_expand_relu[0][0]']    \n",
      "                                                                                                  \n",
      " block_6_depthwise (DepthwiseCo  (None, 14, 14, 192)  1728       ['block_6_pad[0][0]']            \n",
      " nv2D)                                                                                            \n",
      "                                                                                                  \n",
      " block_6_depthwise_BN (BatchNor  (None, 14, 14, 192)  768        ['block_6_depthwise[0][0]']      \n",
      " malization)                                                                                      \n",
      "                                                                                                  \n",
      " block_6_depthwise_relu (ReLU)  (None, 14, 14, 192)  0           ['block_6_depthwise_BN[0][0]']   \n",
      "                                                                                                  \n",
      " block_6_project (Conv2D)       (None, 14, 14, 64)   12288       ['block_6_depthwise_relu[0][0]'] \n",
      "                                                                                                  \n",
      " block_6_project_BN (BatchNorma  (None, 14, 14, 64)  256         ['block_6_project[0][0]']        \n",
      " lization)                                                                                        \n",
      "                                                                                                  \n",
      " block_7_expand (Conv2D)        (None, 14, 14, 384)  24576       ['block_6_project_BN[0][0]']     \n",
      "                                                                                                  \n",
      " block_7_expand_BN (BatchNormal  (None, 14, 14, 384)  1536       ['block_7_expand[0][0]']         \n",
      " ization)                                                                                         \n",
      "                                                                                                  \n",
      " block_7_expand_relu (ReLU)     (None, 14, 14, 384)  0           ['block_7_expand_BN[0][0]']      \n",
      "                                                                                                  \n",
      " block_7_depthwise (DepthwiseCo  (None, 14, 14, 384)  3456       ['block_7_expand_relu[0][0]']    \n",
      " nv2D)                                                                                            \n",
      "                                                                                                  \n",
      " block_7_depthwise_BN (BatchNor  (None, 14, 14, 384)  1536       ['block_7_depthwise[0][0]']      \n",
      " malization)                                                                                      \n",
      "                                                                                                  \n",
      " block_7_depthwise_relu (ReLU)  (None, 14, 14, 384)  0           ['block_7_depthwise_BN[0][0]']   \n",
      "                                                                                                  \n",
      " block_7_project (Conv2D)       (None, 14, 14, 64)   24576       ['block_7_depthwise_relu[0][0]'] \n",
      "                                                                                                  \n",
      " block_7_project_BN (BatchNorma  (None, 14, 14, 64)  256         ['block_7_project[0][0]']        \n",
      " lization)                                                                                        \n",
      "                                                                                                  \n",
      " block_7_add (Add)              (None, 14, 14, 64)   0           ['block_6_project_BN[0][0]',     \n",
      "                                                                  'block_7_project_BN[0][0]']     \n",
      "                                                                                                  \n",
      " block_8_expand (Conv2D)        (None, 14, 14, 384)  24576       ['block_7_add[0][0]']            \n",
      "                                                                                                  \n",
      " block_8_expand_BN (BatchNormal  (None, 14, 14, 384)  1536       ['block_8_expand[0][0]']         \n",
      " ization)                                                                                         \n",
      "                                                                                                  \n",
      " block_8_expand_relu (ReLU)     (None, 14, 14, 384)  0           ['block_8_expand_BN[0][0]']      \n",
      "                                                                                                  \n",
      " block_8_depthwise (DepthwiseCo  (None, 14, 14, 384)  3456       ['block_8_expand_relu[0][0]']    \n",
      " nv2D)                                                                                            \n",
      "                                                                                                  \n",
      " block_8_depthwise_BN (BatchNor  (None, 14, 14, 384)  1536       ['block_8_depthwise[0][0]']      \n",
      " malization)                                                                                      \n",
      "                                                                                                  \n",
      " block_8_depthwise_relu (ReLU)  (None, 14, 14, 384)  0           ['block_8_depthwise_BN[0][0]']   \n",
      "                                                                                                  \n",
      " block_8_project (Conv2D)       (None, 14, 14, 64)   24576       ['block_8_depthwise_relu[0][0]'] \n",
      "                                                                                                  \n",
      " block_8_project_BN (BatchNorma  (None, 14, 14, 64)  256         ['block_8_project[0][0]']        \n",
      " lization)                                                                                        \n",
      "                                                                                                  \n",
      " block_8_add (Add)              (None, 14, 14, 64)   0           ['block_7_add[0][0]',            \n",
      "                                                                  'block_8_project_BN[0][0]']     \n",
      "                                                                                                  \n",
      " block_9_expand (Conv2D)        (None, 14, 14, 384)  24576       ['block_8_add[0][0]']            \n",
      "                                                                                                  \n",
      " block_9_expand_BN (BatchNormal  (None, 14, 14, 384)  1536       ['block_9_expand[0][0]']         \n",
      " ization)                                                                                         \n",
      "                                                                                                  \n",
      " block_9_expand_relu (ReLU)     (None, 14, 14, 384)  0           ['block_9_expand_BN[0][0]']      \n",
      "                                                                                                  \n",
      " block_9_depthwise (DepthwiseCo  (None, 14, 14, 384)  3456       ['block_9_expand_relu[0][0]']    \n",
      " nv2D)                                                                                            \n",
      "                                                                                                  \n",
      " block_9_depthwise_BN (BatchNor  (None, 14, 14, 384)  1536       ['block_9_depthwise[0][0]']      \n",
      " malization)                                                                                      \n",
      "                                                                                                  \n",
      " block_9_depthwise_relu (ReLU)  (None, 14, 14, 384)  0           ['block_9_depthwise_BN[0][0]']   \n",
      "                                                                                                  \n",
      " block_9_project (Conv2D)       (None, 14, 14, 64)   24576       ['block_9_depthwise_relu[0][0]'] \n",
      "                                                                                                  \n",
      " block_9_project_BN (BatchNorma  (None, 14, 14, 64)  256         ['block_9_project[0][0]']        \n",
      " lization)                                                                                        \n",
      "                                                                                                  \n",
      " block_9_add (Add)              (None, 14, 14, 64)   0           ['block_8_add[0][0]',            \n",
      "                                                                  'block_9_project_BN[0][0]']     \n",
      "                                                                                                  \n",
      " block_10_expand (Conv2D)       (None, 14, 14, 384)  24576       ['block_9_add[0][0]']            \n",
      "                                                                                                  \n",
      " block_10_expand_BN (BatchNorma  (None, 14, 14, 384)  1536       ['block_10_expand[0][0]']        \n",
      " lization)                                                                                        \n",
      "                                                                                                  \n",
      " block_10_expand_relu (ReLU)    (None, 14, 14, 384)  0           ['block_10_expand_BN[0][0]']     \n",
      "                                                                                                  \n",
      " block_10_depthwise (DepthwiseC  (None, 14, 14, 384)  3456       ['block_10_expand_relu[0][0]']   \n",
      " onv2D)                                                                                           \n",
      "                                                                                                  \n",
      " block_10_depthwise_BN (BatchNo  (None, 14, 14, 384)  1536       ['block_10_depthwise[0][0]']     \n",
      " rmalization)                                                                                     \n",
      "                                                                                                  \n",
      " block_10_depthwise_relu (ReLU)  (None, 14, 14, 384)  0          ['block_10_depthwise_BN[0][0]']  \n",
      "                                                                                                  \n",
      " block_10_project (Conv2D)      (None, 14, 14, 96)   36864       ['block_10_depthwise_relu[0][0]']\n",
      "                                                                                                  \n",
      " block_10_project_BN (BatchNorm  (None, 14, 14, 96)  384         ['block_10_project[0][0]']       \n",
      " alization)                                                                                       \n",
      "                                                                                                  \n",
      " block_11_expand (Conv2D)       (None, 14, 14, 576)  55296       ['block_10_project_BN[0][0]']    \n",
      "                                                                                                  \n",
      " block_11_expand_BN (BatchNorma  (None, 14, 14, 576)  2304       ['block_11_expand[0][0]']        \n",
      " lization)                                                                                        \n",
      "                                                                                                  \n",
      " block_11_expand_relu (ReLU)    (None, 14, 14, 576)  0           ['block_11_expand_BN[0][0]']     \n",
      "                                                                                                  \n",
      " block_11_depthwise (DepthwiseC  (None, 14, 14, 576)  5184       ['block_11_expand_relu[0][0]']   \n",
      " onv2D)                                                                                           \n",
      "                                                                                                  \n",
      " block_11_depthwise_BN (BatchNo  (None, 14, 14, 576)  2304       ['block_11_depthwise[0][0]']     \n",
      " rmalization)                                                                                     \n",
      "                                                                                                  \n",
      " block_11_depthwise_relu (ReLU)  (None, 14, 14, 576)  0          ['block_11_depthwise_BN[0][0]']  \n",
      "                                                                                                  \n",
      " block_11_project (Conv2D)      (None, 14, 14, 96)   55296       ['block_11_depthwise_relu[0][0]']\n",
      "                                                                                                  \n",
      " block_11_project_BN (BatchNorm  (None, 14, 14, 96)  384         ['block_11_project[0][0]']       \n",
      " alization)                                                                                       \n",
      "                                                                                                  \n",
      " block_11_add (Add)             (None, 14, 14, 96)   0           ['block_10_project_BN[0][0]',    \n",
      "                                                                  'block_11_project_BN[0][0]']    \n",
      "                                                                                                  \n",
      " block_12_expand (Conv2D)       (None, 14, 14, 576)  55296       ['block_11_add[0][0]']           \n",
      "                                                                                                  \n",
      " block_12_expand_BN (BatchNorma  (None, 14, 14, 576)  2304       ['block_12_expand[0][0]']        \n",
      " lization)                                                                                        \n",
      "                                                                                                  \n",
      " block_12_expand_relu (ReLU)    (None, 14, 14, 576)  0           ['block_12_expand_BN[0][0]']     \n",
      "                                                                                                  \n",
      " block_12_depthwise (DepthwiseC  (None, 14, 14, 576)  5184       ['block_12_expand_relu[0][0]']   \n",
      " onv2D)                                                                                           \n",
      "                                                                                                  \n",
      " block_12_depthwise_BN (BatchNo  (None, 14, 14, 576)  2304       ['block_12_depthwise[0][0]']     \n",
      " rmalization)                                                                                     \n",
      "                                                                                                  \n",
      " block_12_depthwise_relu (ReLU)  (None, 14, 14, 576)  0          ['block_12_depthwise_BN[0][0]']  \n",
      "                                                                                                  \n",
      " block_12_project (Conv2D)      (None, 14, 14, 96)   55296       ['block_12_depthwise_relu[0][0]']\n",
      "                                                                                                  \n",
      " block_12_project_BN (BatchNorm  (None, 14, 14, 96)  384         ['block_12_project[0][0]']       \n",
      " alization)                                                                                       \n",
      "                                                                                                  \n",
      " block_12_add (Add)             (None, 14, 14, 96)   0           ['block_11_add[0][0]',           \n",
      "                                                                  'block_12_project_BN[0][0]']    \n",
      "                                                                                                  \n",
      " block_13_expand (Conv2D)       (None, 14, 14, 576)  55296       ['block_12_add[0][0]']           \n",
      "                                                                                                  \n",
      " block_13_expand_BN (BatchNorma  (None, 14, 14, 576)  2304       ['block_13_expand[0][0]']        \n",
      " lization)                                                                                        \n",
      "                                                                                                  \n",
      " block_13_expand_relu (ReLU)    (None, 14, 14, 576)  0           ['block_13_expand_BN[0][0]']     \n",
      "                                                                                                  \n",
      " block_13_pad (ZeroPadding2D)   (None, 15, 15, 576)  0           ['block_13_expand_relu[0][0]']   \n",
      "                                                                                                  \n",
      " block_13_depthwise (DepthwiseC  (None, 7, 7, 576)   5184        ['block_13_pad[0][0]']           \n",
      " onv2D)                                                                                           \n",
      "                                                                                                  \n",
      " block_13_depthwise_BN (BatchNo  (None, 7, 7, 576)   2304        ['block_13_depthwise[0][0]']     \n",
      " rmalization)                                                                                     \n",
      "                                                                                                  \n",
      " block_13_depthwise_relu (ReLU)  (None, 7, 7, 576)   0           ['block_13_depthwise_BN[0][0]']  \n",
      "                                                                                                  \n",
      " block_13_project (Conv2D)      (None, 7, 7, 160)    92160       ['block_13_depthwise_relu[0][0]']\n",
      "                                                                                                  \n",
      " block_13_project_BN (BatchNorm  (None, 7, 7, 160)   640         ['block_13_project[0][0]']       \n",
      " alization)                                                                                       \n",
      "                                                                                                  \n",
      " block_14_expand (Conv2D)       (None, 7, 7, 960)    153600      ['block_13_project_BN[0][0]']    \n",
      "                                                                                                  \n",
      " block_14_expand_BN (BatchNorma  (None, 7, 7, 960)   3840        ['block_14_expand[0][0]']        \n",
      " lization)                                                                                        \n",
      "                                                                                                  \n",
      " block_14_expand_relu (ReLU)    (None, 7, 7, 960)    0           ['block_14_expand_BN[0][0]']     \n",
      "                                                                                                  \n",
      " block_14_depthwise (DepthwiseC  (None, 7, 7, 960)   8640        ['block_14_expand_relu[0][0]']   \n",
      " onv2D)                                                                                           \n",
      "                                                                                                  \n",
      " block_14_depthwise_BN (BatchNo  (None, 7, 7, 960)   3840        ['block_14_depthwise[0][0]']     \n",
      " rmalization)                                                                                     \n",
      "                                                                                                  \n",
      " block_14_depthwise_relu (ReLU)  (None, 7, 7, 960)   0           ['block_14_depthwise_BN[0][0]']  \n",
      "                                                                                                  \n",
      " block_14_project (Conv2D)      (None, 7, 7, 160)    153600      ['block_14_depthwise_relu[0][0]']\n",
      "                                                                                                  \n",
      " block_14_project_BN (BatchNorm  (None, 7, 7, 160)   640         ['block_14_project[0][0]']       \n",
      " alization)                                                                                       \n",
      "                                                                                                  \n",
      " block_14_add (Add)             (None, 7, 7, 160)    0           ['block_13_project_BN[0][0]',    \n",
      "                                                                  'block_14_project_BN[0][0]']    \n",
      "                                                                                                  \n",
      " block_15_expand (Conv2D)       (None, 7, 7, 960)    153600      ['block_14_add[0][0]']           \n",
      "                                                                                                  \n",
      " block_15_expand_BN (BatchNorma  (None, 7, 7, 960)   3840        ['block_15_expand[0][0]']        \n",
      " lization)                                                                                        \n",
      "                                                                                                  \n",
      " block_15_expand_relu (ReLU)    (None, 7, 7, 960)    0           ['block_15_expand_BN[0][0]']     \n",
      "                                                                                                  \n",
      " block_15_depthwise (DepthwiseC  (None, 7, 7, 960)   8640        ['block_15_expand_relu[0][0]']   \n",
      " onv2D)                                                                                           \n",
      "                                                                                                  \n",
      " block_15_depthwise_BN (BatchNo  (None, 7, 7, 960)   3840        ['block_15_depthwise[0][0]']     \n",
      " rmalization)                                                                                     \n",
      "                                                                                                  \n",
      " block_15_depthwise_relu (ReLU)  (None, 7, 7, 960)   0           ['block_15_depthwise_BN[0][0]']  \n",
      "                                                                                                  \n",
      " block_15_project (Conv2D)      (None, 7, 7, 160)    153600      ['block_15_depthwise_relu[0][0]']\n",
      "                                                                                                  \n",
      " block_15_project_BN (BatchNorm  (None, 7, 7, 160)   640         ['block_15_project[0][0]']       \n",
      " alization)                                                                                       \n",
      "                                                                                                  \n",
      " block_15_add (Add)             (None, 7, 7, 160)    0           ['block_14_add[0][0]',           \n",
      "                                                                  'block_15_project_BN[0][0]']    \n",
      "                                                                                                  \n",
      " block_16_expand (Conv2D)       (None, 7, 7, 960)    153600      ['block_15_add[0][0]']           \n",
      "                                                                                                  \n",
      " block_16_expand_BN (BatchNorma  (None, 7, 7, 960)   3840        ['block_16_expand[0][0]']        \n",
      " lization)                                                                                        \n",
      "                                                                                                  \n",
      " block_16_expand_relu (ReLU)    (None, 7, 7, 960)    0           ['block_16_expand_BN[0][0]']     \n",
      "                                                                                                  \n",
      " block_16_depthwise (DepthwiseC  (None, 7, 7, 960)   8640        ['block_16_expand_relu[0][0]']   \n",
      " onv2D)                                                                                           \n",
      "                                                                                                  \n",
      " block_16_depthwise_BN (BatchNo  (None, 7, 7, 960)   3840        ['block_16_depthwise[0][0]']     \n",
      " rmalization)                                                                                     \n",
      "                                                                                                  \n",
      " block_16_depthwise_relu (ReLU)  (None, 7, 7, 960)   0           ['block_16_depthwise_BN[0][0]']  \n",
      "                                                                                                  \n",
      " block_16_project (Conv2D)      (None, 7, 7, 320)    307200      ['block_16_depthwise_relu[0][0]']\n",
      "                                                                                                  \n",
      " block_16_project_BN (BatchNorm  (None, 7, 7, 320)   1280        ['block_16_project[0][0]']       \n",
      " alization)                                                                                       \n",
      "                                                                                                  \n",
      " Conv_1 (Conv2D)                (None, 7, 7, 1280)   409600      ['block_16_project_BN[0][0]']    \n",
      "                                                                                                  \n",
      " Conv_1_bn (BatchNormalization)  (None, 7, 7, 1280)  5120        ['Conv_1[0][0]']                 \n",
      "                                                                                                  \n",
      " out_relu (ReLU)                (None, 7, 7, 1280)   0           ['Conv_1_bn[0][0]']              \n",
      "                                                                                                  \n",
      " global_average_pooling2d_3 (Gl  (None, 1280)        0           ['out_relu[0][0]']               \n",
      " obalAveragePooling2D)                                                                            \n",
      "                                                                                                  \n",
      "==================================================================================================\n",
      "Total params: 2,257,984\n",
      "Trainable params: 0\n",
      "Non-trainable params: 2,257,984\n",
      "__________________________________________________________________________________________________\n"
     ]
    }
   ],
   "source": [
    "# base model summary\n",
    "BASE_MODEL.summary()"
   ]
  },
  {
   "cell_type": "markdown",
   "metadata": {},
   "source": [
    "**3.1.2 Add dense layers on top**"
   ]
  },
  {
   "cell_type": "code",
   "execution_count": 64,
   "metadata": {},
   "outputs": [],
   "source": [
    "def HyperModel(hyperparameters):\n",
    "    '''\n",
    "    creates a hypermodel by stacking dense layers on top of base model. \n",
    "    Two hyperparameters to be tuned: \n",
    "    1. number of neurons in the first dense layer,\n",
    "    2. initial learning rate of the optimizer\n",
    "    Args:\n",
    "    hyperparameters - Keras tuner object\n",
    "    '''\n",
    "    # initialize the Sequential API to stack the layers\n",
    "    model = keras.Sequential()\n",
    "    \n",
    "    # convolutional base \n",
    "    model.add(BASE_MODEL)\n",
    "    \n",
    "    # number of neurons in first dense layer\n",
    "    hp_units = hyperparameters.Choice(\n",
    "        'units', \n",
    "        values=[320,160,80]\n",
    "    )\n",
    "    # first dense layer\n",
    "    model.add(\n",
    "        keras.layers.Dense(\n",
    "            units=hp_units, \n",
    "            activation='relu'\n",
    "        )\n",
    "    )\n",
    "    # dropout \n",
    "    model.add(\n",
    "        keras.layers.Dropout(\n",
    "            rate=0.5\n",
    "        )\n",
    "    )\n",
    "    # output layer with softmax activation function\n",
    "    model.add(\n",
    "        keras.layers.Dense(\n",
    "            len(CLASSES),\n",
    "            activation='softmax'\n",
    "        )\n",
    "    )\n",
    "    # learning rate for the optimizer\n",
    "    hp_learning_rate = hyperparameters.Choice(\n",
    "        'learning_rate', \n",
    "        values=[1e-2, 1e-3, 1e-4]\n",
    "    )\n",
    "    # compile model\n",
    "    model.compile(\n",
    "        optimizer=keras.optimizers.Adam(\n",
    "            learning_rate=hp_learning_rate\n",
    "        ),\n",
    "        loss=keras.losses.categorical_crossentropy,\n",
    "        metrics=[keras.metrics.categorical_accuracy]\n",
    "    )\n",
    "\n",
    "    return model"
   ]
  },
  {
   "cell_type": "markdown",
   "metadata": {},
   "source": [
    "### 3.2 Hyperparameter Tuning: [KerasTuner](https://keras.io/keras_tuner/)"
   ]
  },
  {
   "cell_type": "code",
   "execution_count": 65,
   "metadata": {},
   "outputs": [],
   "source": [
    "import keras_tuner as kt"
   ]
  },
  {
   "cell_type": "markdown",
   "metadata": {},
   "source": [
    "**grid search**"
   ]
  },
  {
   "cell_type": "code",
   "execution_count": 66,
   "metadata": {},
   "outputs": [
    {
     "name": "stdout",
     "output_type": "stream",
     "text": [
      "INFO:tensorflow:Reloading Tuner from ./untitled_project/tuner0.json\n"
     ]
    }
   ],
   "source": [
    "# instantiate hyperband\n",
    "\n",
    "tuner = kt.GridSearch(\n",
    "    hypermodel=HyperModel,\n",
    "    objective='val_categorical_accuracy'\n",
    ")"
   ]
  },
  {
   "cell_type": "code",
   "execution_count": 67,
   "metadata": {
    "scrolled": true
   },
   "outputs": [
    {
     "name": "stdout",
     "output_type": "stream",
     "text": [
      "Search space summary\n",
      "Default search space size: 2\n",
      "units (Choice)\n",
      "{'default': 320, 'conditions': [], 'values': [320, 160, 80], 'ordered': True}\n",
      "learning_rate (Choice)\n",
      "{'default': 0.01, 'conditions': [], 'values': [0.01, 0.001, 0.0001], 'ordered': True}\n"
     ]
    }
   ],
   "source": [
    "# hypertuning settings summary\n",
    "tuner.search_space_summary() "
   ]
  },
  {
   "cell_type": "code",
   "execution_count": 68,
   "metadata": {},
   "outputs": [],
   "source": [
    "# early stopping\n",
    "\n",
    "stop_early = keras.callbacks.EarlyStopping(\n",
    "    monitor='val_loss', \n",
    "    patience=5\n",
    ")"
   ]
  },
  {
   "cell_type": "code",
   "execution_count": null,
   "metadata": {},
   "outputs": [],
   "source": [
    "# load and evaluate a saved model\n",
    "#from numpy import loadtxt\n",
    "#from tensorflow.keras.models import load_model"
   ]
  },
  {
   "cell_type": "code",
   "execution_count": null,
   "metadata": {},
   "outputs": [],
   "source": [
    "# load model\n",
    "#model = load_model('best_model.h5')"
   ]
  },
  {
   "cell_type": "code",
   "execution_count": null,
   "metadata": {},
   "outputs": [],
   "source": [
    "#model.summary()"
   ]
  },
  {
   "cell_type": "markdown",
   "metadata": {},
   "source": [
    "**Hypertuning**"
   ]
  },
  {
   "cell_type": "code",
   "execution_count": 69,
   "metadata": {},
   "outputs": [
    {
     "name": "stdout",
     "output_type": "stream",
     "text": [
      "INFO:tensorflow:Oracle triggered exit\n"
     ]
    }
   ],
   "source": [
    "tuner.search(\n",
    "   xtrain, \n",
    "   ytrain,\n",
    "   epochs=25,\n",
    "   validation_split=0.2,\n",
    "   callbacks=[stop_early]\n",
    ")"
   ]
  },
  {
   "cell_type": "code",
   "execution_count": 70,
   "metadata": {},
   "outputs": [],
   "source": [
    "# best hyperparameters\n",
    "best_hp = tuner.get_best_hyperparameters(1)[0]"
   ]
  },
  {
   "cell_type": "code",
   "execution_count": 71,
   "metadata": {},
   "outputs": [
    {
     "data": {
      "text/plain": [
       "320"
      ]
     },
     "execution_count": 71,
     "metadata": {},
     "output_type": "execute_result"
    }
   ],
   "source": [
    "best_hp.get('units')"
   ]
  },
  {
   "cell_type": "code",
   "execution_count": 72,
   "metadata": {},
   "outputs": [
    {
     "data": {
      "text/plain": [
       "0.0001"
      ]
     },
     "execution_count": 72,
     "metadata": {},
     "output_type": "execute_result"
    }
   ],
   "source": [
    "best_hp.get('learning_rate')"
   ]
  },
  {
   "cell_type": "markdown",
   "metadata": {},
   "source": [
    "**Model selection**"
   ]
  },
  {
   "cell_type": "code",
   "execution_count": 73,
   "metadata": {},
   "outputs": [
    {
     "name": "stdout",
     "output_type": "stream",
     "text": [
      "Model: \"sequential_1\"\n",
      "_________________________________________________________________\n",
      " Layer (type)                Output Shape              Param #   \n",
      "=================================================================\n",
      " mobilenetv2_1.00_224 (Funct  (None, 1280)             2257984   \n",
      " ional)                                                          \n",
      "                                                                 \n",
      " dense_2 (Dense)             (None, 320)               409920    \n",
      "                                                                 \n",
      " dropout_1 (Dropout)         (None, 320)               0         \n",
      "                                                                 \n",
      " dense_3 (Dense)             (None, 4)                 1284      \n",
      "                                                                 \n",
      "=================================================================\n",
      "Total params: 2,669,188\n",
      "Trainable params: 411,204\n",
      "Non-trainable params: 2,257,984\n",
      "_________________________________________________________________\n"
     ]
    }
   ],
   "source": [
    "h_model = tuner.hypermodel.build(best_hp)\n",
    "h_model.summary()"
   ]
  },
  {
   "cell_type": "markdown",
   "metadata": {},
   "source": [
    "### 3.3 Model Training"
   ]
  },
  {
   "cell_type": "markdown",
   "metadata": {},
   "source": [
    "**train model**"
   ]
  },
  {
   "cell_type": "code",
   "execution_count": 74,
   "metadata": {},
   "outputs": [
    {
     "name": "stdout",
     "output_type": "stream",
     "text": [
      "Epoch 1/40\n",
      "16/16 [==============================] - 18s 877ms/step - loss: 1.2455 - categorical_accuracy: 0.4812 - val_loss: 0.6914 - val_categorical_accuracy: 0.8000\n",
      "Epoch 2/40\n",
      "16/16 [==============================] - 14s 870ms/step - loss: 0.6874 - categorical_accuracy: 0.7469 - val_loss: 0.4202 - val_categorical_accuracy: 0.9125\n",
      "Epoch 3/40\n",
      "16/16 [==============================] - 17s 1s/step - loss: 0.4227 - categorical_accuracy: 0.8656 - val_loss: 0.2949 - val_categorical_accuracy: 0.9500\n",
      "Epoch 4/40\n",
      "16/16 [==============================] - 12s 780ms/step - loss: 0.2653 - categorical_accuracy: 0.9344 - val_loss: 0.2325 - val_categorical_accuracy: 0.9750\n",
      "Epoch 5/40\n",
      "16/16 [==============================] - 11s 702ms/step - loss: 0.2083 - categorical_accuracy: 0.9531 - val_loss: 0.1925 - val_categorical_accuracy: 0.9875\n",
      "Epoch 6/40\n",
      "16/16 [==============================] - 11s 691ms/step - loss: 0.1730 - categorical_accuracy: 0.9656 - val_loss: 0.1682 - val_categorical_accuracy: 0.9875\n",
      "Epoch 7/40\n",
      "16/16 [==============================] - 10s 655ms/step - loss: 0.1501 - categorical_accuracy: 0.9656 - val_loss: 0.1431 - val_categorical_accuracy: 0.9750\n",
      "Epoch 8/40\n",
      "16/16 [==============================] - 10s 635ms/step - loss: 0.1137 - categorical_accuracy: 0.9812 - val_loss: 0.1269 - val_categorical_accuracy: 0.9875\n",
      "Epoch 9/40\n",
      "16/16 [==============================] - 10s 661ms/step - loss: 0.0742 - categorical_accuracy: 0.9969 - val_loss: 0.1155 - val_categorical_accuracy: 0.9875\n",
      "Epoch 10/40\n",
      "16/16 [==============================] - 14s 878ms/step - loss: 0.0886 - categorical_accuracy: 0.9781 - val_loss: 0.1086 - val_categorical_accuracy: 0.9875\n",
      "Epoch 11/40\n",
      "16/16 [==============================] - 12s 723ms/step - loss: 0.0773 - categorical_accuracy: 0.9875 - val_loss: 0.0991 - val_categorical_accuracy: 0.9875\n",
      "Epoch 12/40\n",
      "16/16 [==============================] - 12s 765ms/step - loss: 0.0579 - categorical_accuracy: 0.9906 - val_loss: 0.0912 - val_categorical_accuracy: 0.9875\n",
      "Epoch 13/40\n",
      "16/16 [==============================] - 12s 709ms/step - loss: 0.0649 - categorical_accuracy: 0.9875 - val_loss: 0.0898 - val_categorical_accuracy: 0.9875\n",
      "Epoch 14/40\n",
      "16/16 [==============================] - 11s 693ms/step - loss: 0.0525 - categorical_accuracy: 0.9875 - val_loss: 0.0828 - val_categorical_accuracy: 0.9875\n",
      "Epoch 15/40\n",
      "16/16 [==============================] - 11s 687ms/step - loss: 0.0511 - categorical_accuracy: 0.9906 - val_loss: 0.0750 - val_categorical_accuracy: 0.9875\n",
      "Epoch 16/40\n",
      "16/16 [==============================] - 13s 809ms/step - loss: 0.0528 - categorical_accuracy: 0.9906 - val_loss: 0.0739 - val_categorical_accuracy: 0.9875\n",
      "Epoch 17/40\n",
      "16/16 [==============================] - 15s 979ms/step - loss: 0.0373 - categorical_accuracy: 0.9969 - val_loss: 0.0717 - val_categorical_accuracy: 1.0000\n",
      "Epoch 18/40\n",
      "16/16 [==============================] - 12s 747ms/step - loss: 0.0303 - categorical_accuracy: 0.9969 - val_loss: 0.0697 - val_categorical_accuracy: 0.9875\n",
      "Epoch 19/40\n",
      "16/16 [==============================] - 15s 944ms/step - loss: 0.0338 - categorical_accuracy: 0.9969 - val_loss: 0.0670 - val_categorical_accuracy: 0.9875\n",
      "Epoch 20/40\n",
      "16/16 [==============================] - 15s 967ms/step - loss: 0.0250 - categorical_accuracy: 1.0000 - val_loss: 0.0629 - val_categorical_accuracy: 0.9875\n",
      "Epoch 21/40\n",
      "16/16 [==============================] - 13s 839ms/step - loss: 0.0237 - categorical_accuracy: 0.9969 - val_loss: 0.0625 - val_categorical_accuracy: 0.9875\n",
      "Epoch 22/40\n",
      "16/16 [==============================] - 12s 783ms/step - loss: 0.0244 - categorical_accuracy: 1.0000 - val_loss: 0.0588 - val_categorical_accuracy: 0.9875\n",
      "Epoch 23/40\n",
      "16/16 [==============================] - 11s 691ms/step - loss: 0.0239 - categorical_accuracy: 0.9937 - val_loss: 0.0586 - val_categorical_accuracy: 0.9875\n",
      "Epoch 24/40\n",
      "16/16 [==============================] - 11s 705ms/step - loss: 0.0282 - categorical_accuracy: 0.9969 - val_loss: 0.0609 - val_categorical_accuracy: 0.9875\n",
      "Epoch 25/40\n",
      "16/16 [==============================] - 11s 699ms/step - loss: 0.0172 - categorical_accuracy: 1.0000 - val_loss: 0.0560 - val_categorical_accuracy: 0.9875\n",
      "Epoch 26/40\n",
      "16/16 [==============================] - 11s 708ms/step - loss: 0.0143 - categorical_accuracy: 1.0000 - val_loss: 0.0512 - val_categorical_accuracy: 0.9875\n",
      "Epoch 27/40\n",
      "16/16 [==============================] - 11s 696ms/step - loss: 0.0268 - categorical_accuracy: 0.9969 - val_loss: 0.0479 - val_categorical_accuracy: 0.9875\n",
      "Epoch 28/40\n",
      "16/16 [==============================] - 11s 689ms/step - loss: 0.0177 - categorical_accuracy: 1.0000 - val_loss: 0.0472 - val_categorical_accuracy: 0.9875\n",
      "Epoch 29/40\n",
      "16/16 [==============================] - 11s 712ms/step - loss: 0.0126 - categorical_accuracy: 1.0000 - val_loss: 0.0471 - val_categorical_accuracy: 1.0000\n",
      "Epoch 30/40\n",
      "16/16 [==============================] - 11s 692ms/step - loss: 0.0150 - categorical_accuracy: 1.0000 - val_loss: 0.0464 - val_categorical_accuracy: 1.0000\n",
      "Epoch 31/40\n",
      "16/16 [==============================] - 11s 706ms/step - loss: 0.0098 - categorical_accuracy: 1.0000 - val_loss: 0.0466 - val_categorical_accuracy: 0.9875\n",
      "Epoch 32/40\n",
      "16/16 [==============================] - 11s 692ms/step - loss: 0.0100 - categorical_accuracy: 1.0000 - val_loss: 0.0459 - val_categorical_accuracy: 0.9875\n",
      "Epoch 33/40\n",
      "16/16 [==============================] - 11s 701ms/step - loss: 0.0136 - categorical_accuracy: 1.0000 - val_loss: 0.0451 - val_categorical_accuracy: 0.9875\n",
      "Epoch 34/40\n",
      "16/16 [==============================] - 11s 720ms/step - loss: 0.0106 - categorical_accuracy: 1.0000 - val_loss: 0.0446 - val_categorical_accuracy: 0.9875\n",
      "Epoch 35/40\n",
      "16/16 [==============================] - 11s 689ms/step - loss: 0.0142 - categorical_accuracy: 1.0000 - val_loss: 0.0433 - val_categorical_accuracy: 0.9875\n",
      "Epoch 36/40\n",
      "16/16 [==============================] - 11s 718ms/step - loss: 0.0088 - categorical_accuracy: 1.0000 - val_loss: 0.0422 - val_categorical_accuracy: 1.0000\n",
      "Epoch 37/40\n",
      "16/16 [==============================] - 11s 693ms/step - loss: 0.0113 - categorical_accuracy: 1.0000 - val_loss: 0.0437 - val_categorical_accuracy: 1.0000\n",
      "Epoch 38/40\n",
      "16/16 [==============================] - 11s 692ms/step - loss: 0.0101 - categorical_accuracy: 1.0000 - val_loss: 0.0453 - val_categorical_accuracy: 1.0000\n",
      "Epoch 39/40\n",
      "16/16 [==============================] - 11s 703ms/step - loss: 0.0089 - categorical_accuracy: 1.0000 - val_loss: 0.0421 - val_categorical_accuracy: 1.0000\n",
      "Epoch 40/40\n",
      "16/16 [==============================] - 11s 689ms/step - loss: 0.0082 - categorical_accuracy: 1.0000 - val_loss: 0.0390 - val_categorical_accuracy: 1.0000\n"
     ]
    },
    {
     "data": {
      "text/plain": [
       "<keras.callbacks.History at 0x7f83e2498580>"
      ]
     },
     "execution_count": 74,
     "metadata": {},
     "output_type": "execute_result"
    }
   ],
   "source": [
    "h_model.fit(\n",
    "    xtrain,\n",
    "    ytrain,\n",
    "    epochs=40,\n",
    "    batch_size=20,\n",
    "    callbacks=[stop_early],\n",
    "    validation_split=0.2\n",
    ")"
   ]
  },
  {
   "cell_type": "markdown",
   "metadata": {},
   "source": [
    "**training history: losses and epoch numbers**"
   ]
  },
  {
   "cell_type": "code",
   "execution_count": 75,
   "metadata": {},
   "outputs": [],
   "source": [
    "# losses in the training history\n",
    "losses = pd.DataFrame(h_model.history.history)\n",
    "# training loss\n",
    "loss = losses['loss'].values \n",
    "# validation loss\n",
    "val_loss = losses['val_loss'].values\n",
    "\n",
    "# epoch number\n",
    "epoch = losses.index.values + np.ones_like(losses.index.values)"
   ]
  },
  {
   "cell_type": "markdown",
   "metadata": {},
   "source": [
    "**plot training history**"
   ]
  },
  {
   "cell_type": "code",
   "execution_count": 76,
   "metadata": {},
   "outputs": [
    {
     "data": {
      "image/png": "[encoded data removed]",
      "text/plain": [
       "<Figure size 800x400 with 1 Axes>"
      ]
     },
     "metadata": {},
     "output_type": "display_data"
    }
   ],
   "source": [
    "# plot losses against epoch number in log-scale\n",
    "plt.figure(figsize=(8,4),dpi=100)\n",
    "plt.semilogx(epoch, loss, linewidth=1.5, label='loss')\n",
    "plt.semilogx(epoch, val_loss, linewidth=1.5, label='val_loss')\n",
    "\n",
    "plt.xlabel('epoch',fontsize=10)\n",
    "plt.ylabel('loss value',fontsize=10)\n",
    "plt.legend(loc=1,fontsize=10);"
   ]
  },
  {
   "cell_type": "markdown",
   "metadata": {},
   "source": [
    "### 3.4 Model Evaluation"
   ]
  },
  {
   "cell_type": "code",
   "execution_count": 77,
   "metadata": {},
   "outputs": [
    {
     "data": {
      "image/png": "[encoded data removed]",
      "text/plain": [
       "<Figure size 300x300 with 1 Axes>"
      ]
     },
     "metadata": {},
     "output_type": "display_data"
    }
   ],
   "source": [
    "# show and preprocess image\n",
    "test_image = show_preprocess_image('../data/test/cups/cups_02.jpg')"
   ]
  },
  {
   "cell_type": "code",
   "execution_count": 78,
   "metadata": {},
   "outputs": [],
   "source": [
    "def image_predict(preprocessed_image, model):\n",
    "    \"\"\"\n",
    "    returns class probabilities for a given image,\n",
    "    based on the model obtained via transfer learning \n",
    "    \"\"\"\n",
    "    probabilities = model.predict(\n",
    "        preprocessed_image,\n",
    "        verbose=0\n",
    "    )\n",
    "    probabilities = np.round(probabilities,6)[0]\n",
    "    class_probabilities = dict(zip(CLASSES,probabilities))\n",
    "    \n",
    "    return class_probabilities"
   ]
  },
  {
   "cell_type": "code",
   "execution_count": 79,
   "metadata": {},
   "outputs": [
    {
     "data": {
      "text/plain": [
       "{'bananas': 0.010924,\n",
       " 'cellphones': 0.008984,\n",
       " 'spectacles': 0.003236,\n",
       " 'cups': 0.976856}"
      ]
     },
     "execution_count": 79,
     "metadata": {},
     "output_type": "execute_result"
    }
   ],
   "source": [
    "# predict image class\n",
    "image_predict(test_image, h_model)"
   ]
  },
  {
   "cell_type": "code",
   "execution_count": 81,
   "metadata": {},
   "outputs": [
    {
     "name": "stdout",
     "output_type": "stream",
     "text": [
      "Found 40 images belonging to 4 classes.\n"
     ]
    }
   ],
   "source": [
    "# generate batches of x and y arrays from directory\n",
    "\n",
    "test_data_gen = data_gen.flow_from_directory(\n",
    "        directory='../data/test',\n",
    "        class_mode=\"categorical\",\n",
    "        classes=CLASSES,\n",
    "        target_size=(224, 224)\n",
    ")"
   ]
  },
  {
   "cell_type": "code",
   "execution_count": 82,
   "metadata": {},
   "outputs": [
    {
     "data": {
      "text/plain": [
       "((32, 224, 224, 3), (32, 4))"
      ]
     },
     "execution_count": 82,
     "metadata": {},
     "output_type": "execute_result"
    }
   ],
   "source": [
    "# load in all images at once\n",
    "xtest, ytest = next(test_data_gen)\n",
    "xtest.shape, ytest.shape"
   ]
  },
  {
   "cell_type": "code",
   "execution_count": 83,
   "metadata": {},
   "outputs": [],
   "source": [
    "def transfer_learning_prediction(model, x, y):\n",
    "    \"\"\"\n",
    "    returns dataframe with class probabilities and true class label \n",
    "    \"\"\"\n",
    "    # prediction dataframe along with true class\n",
    "    df_pred = pd.DataFrame(\n",
    "        columns=CLASSES,\n",
    "        data=np.round(model.predict(x,verbose=0),6)\n",
    "    )\n",
    "    # convert vectorized classes into strings\n",
    "    df_pred['class'] = \\\n",
    "    [''.join([i*j for (i,j) in zip(CLASSES,vector)]) for vector in y.astype(int)]\n",
    "    \n",
    "    return df_pred"
   ]
  },
  {
   "cell_type": "code",
   "execution_count": 84,
   "metadata": {},
   "outputs": [
    {
     "data": {
      "text/html": [
       "<div>\n",
       "<style scoped>\n",
       "    .dataframe tbody tr th:only-of-type {\n",
       "        vertical-align: middle;\n",
       "    }\n",
       "\n",
       "    .dataframe tbody tr th {\n",
       "        vertical-align: top;\n",
       "    }\n",
       "\n",
       "    .dataframe thead th {\n",
       "        text-align: right;\n",
       "    }\n",
       "</style>\n",
       "<table border=\"1\" class=\"dataframe\">\n",
       "  <thead>\n",
       "    <tr style=\"text-align: right;\">\n",
       "      <th></th>\n",
       "      <th>bananas</th>\n",
       "      <th>cellphones</th>\n",
       "      <th>spectacles</th>\n",
       "      <th>cups</th>\n",
       "      <th>class</th>\n",
       "    </tr>\n",
       "  </thead>\n",
       "  <tbody>\n",
       "    <tr>\n",
       "      <th>0</th>\n",
       "      <td>0.000010</td>\n",
       "      <td>0.000003</td>\n",
       "      <td>0.999973</td>\n",
       "      <td>0.000014</td>\n",
       "      <td>spectacles</td>\n",
       "    </tr>\n",
       "    <tr>\n",
       "      <th>1</th>\n",
       "      <td>0.992390</td>\n",
       "      <td>0.000361</td>\n",
       "      <td>0.000336</td>\n",
       "      <td>0.006914</td>\n",
       "      <td>bananas</td>\n",
       "    </tr>\n",
       "    <tr>\n",
       "      <th>2</th>\n",
       "      <td>0.000392</td>\n",
       "      <td>0.000049</td>\n",
       "      <td>0.997383</td>\n",
       "      <td>0.002176</td>\n",
       "      <td>spectacles</td>\n",
       "    </tr>\n",
       "    <tr>\n",
       "      <th>3</th>\n",
       "      <td>0.000821</td>\n",
       "      <td>0.000053</td>\n",
       "      <td>0.000596</td>\n",
       "      <td>0.998530</td>\n",
       "      <td>cups</td>\n",
       "    </tr>\n",
       "    <tr>\n",
       "      <th>4</th>\n",
       "      <td>0.995832</td>\n",
       "      <td>0.000567</td>\n",
       "      <td>0.000725</td>\n",
       "      <td>0.002876</td>\n",
       "      <td>bananas</td>\n",
       "    </tr>\n",
       "    <tr>\n",
       "      <th>5</th>\n",
       "      <td>0.998153</td>\n",
       "      <td>0.000211</td>\n",
       "      <td>0.000363</td>\n",
       "      <td>0.001273</td>\n",
       "      <td>bananas</td>\n",
       "    </tr>\n",
       "    <tr>\n",
       "      <th>6</th>\n",
       "      <td>0.009995</td>\n",
       "      <td>0.971630</td>\n",
       "      <td>0.008539</td>\n",
       "      <td>0.009836</td>\n",
       "      <td>cellphones</td>\n",
       "    </tr>\n",
       "    <tr>\n",
       "      <th>7</th>\n",
       "      <td>0.000220</td>\n",
       "      <td>0.996556</td>\n",
       "      <td>0.000183</td>\n",
       "      <td>0.003042</td>\n",
       "      <td>cellphones</td>\n",
       "    </tr>\n",
       "    <tr>\n",
       "      <th>8</th>\n",
       "      <td>0.048726</td>\n",
       "      <td>0.216698</td>\n",
       "      <td>0.353033</td>\n",
       "      <td>0.381542</td>\n",
       "      <td>spectacles</td>\n",
       "    </tr>\n",
       "    <tr>\n",
       "      <th>9</th>\n",
       "      <td>0.040810</td>\n",
       "      <td>0.006763</td>\n",
       "      <td>0.008108</td>\n",
       "      <td>0.944319</td>\n",
       "      <td>cups</td>\n",
       "    </tr>\n",
       "    <tr>\n",
       "      <th>10</th>\n",
       "      <td>0.003863</td>\n",
       "      <td>0.002238</td>\n",
       "      <td>0.984423</td>\n",
       "      <td>0.009476</td>\n",
       "      <td>spectacles</td>\n",
       "    </tr>\n",
       "    <tr>\n",
       "      <th>11</th>\n",
       "      <td>0.999847</td>\n",
       "      <td>0.000025</td>\n",
       "      <td>0.000032</td>\n",
       "      <td>0.000096</td>\n",
       "      <td>bananas</td>\n",
       "    </tr>\n",
       "    <tr>\n",
       "      <th>12</th>\n",
       "      <td>0.005341</td>\n",
       "      <td>0.038676</td>\n",
       "      <td>0.711324</td>\n",
       "      <td>0.244659</td>\n",
       "      <td>cellphones</td>\n",
       "    </tr>\n",
       "    <tr>\n",
       "      <th>13</th>\n",
       "      <td>0.981147</td>\n",
       "      <td>0.002466</td>\n",
       "      <td>0.003766</td>\n",
       "      <td>0.012620</td>\n",
       "      <td>bananas</td>\n",
       "    </tr>\n",
       "    <tr>\n",
       "      <th>14</th>\n",
       "      <td>0.002493</td>\n",
       "      <td>0.982526</td>\n",
       "      <td>0.001807</td>\n",
       "      <td>0.013175</td>\n",
       "      <td>cellphones</td>\n",
       "    </tr>\n",
       "    <tr>\n",
       "      <th>15</th>\n",
       "      <td>0.999776</td>\n",
       "      <td>0.000029</td>\n",
       "      <td>0.000052</td>\n",
       "      <td>0.000142</td>\n",
       "      <td>bananas</td>\n",
       "    </tr>\n",
       "    <tr>\n",
       "      <th>16</th>\n",
       "      <td>0.979862</td>\n",
       "      <td>0.000291</td>\n",
       "      <td>0.004380</td>\n",
       "      <td>0.015467</td>\n",
       "      <td>bananas</td>\n",
       "    </tr>\n",
       "    <tr>\n",
       "      <th>17</th>\n",
       "      <td>0.000622</td>\n",
       "      <td>0.000187</td>\n",
       "      <td>0.997325</td>\n",
       "      <td>0.001866</td>\n",
       "      <td>spectacles</td>\n",
       "    </tr>\n",
       "    <tr>\n",
       "      <th>18</th>\n",
       "      <td>0.000005</td>\n",
       "      <td>0.000001</td>\n",
       "      <td>0.999988</td>\n",
       "      <td>0.000006</td>\n",
       "      <td>spectacles</td>\n",
       "    </tr>\n",
       "    <tr>\n",
       "      <th>19</th>\n",
       "      <td>0.000753</td>\n",
       "      <td>0.000650</td>\n",
       "      <td>0.997110</td>\n",
       "      <td>0.001487</td>\n",
       "      <td>spectacles</td>\n",
       "    </tr>\n",
       "    <tr>\n",
       "      <th>20</th>\n",
       "      <td>0.000233</td>\n",
       "      <td>0.000012</td>\n",
       "      <td>0.000221</td>\n",
       "      <td>0.999534</td>\n",
       "      <td>cups</td>\n",
       "    </tr>\n",
       "    <tr>\n",
       "      <th>21</th>\n",
       "      <td>0.000450</td>\n",
       "      <td>0.000144</td>\n",
       "      <td>0.999196</td>\n",
       "      <td>0.000210</td>\n",
       "      <td>spectacles</td>\n",
       "    </tr>\n",
       "    <tr>\n",
       "      <th>22</th>\n",
       "      <td>0.000901</td>\n",
       "      <td>0.991409</td>\n",
       "      <td>0.001357</td>\n",
       "      <td>0.006334</td>\n",
       "      <td>cellphones</td>\n",
       "    </tr>\n",
       "    <tr>\n",
       "      <th>23</th>\n",
       "      <td>0.002156</td>\n",
       "      <td>0.000280</td>\n",
       "      <td>0.992608</td>\n",
       "      <td>0.004956</td>\n",
       "      <td>spectacles</td>\n",
       "    </tr>\n",
       "    <tr>\n",
       "      <th>24</th>\n",
       "      <td>0.164410</td>\n",
       "      <td>0.525610</td>\n",
       "      <td>0.266900</td>\n",
       "      <td>0.043081</td>\n",
       "      <td>cellphones</td>\n",
       "    </tr>\n",
       "    <tr>\n",
       "      <th>25</th>\n",
       "      <td>0.993675</td>\n",
       "      <td>0.000739</td>\n",
       "      <td>0.003277</td>\n",
       "      <td>0.002308</td>\n",
       "      <td>bananas</td>\n",
       "    </tr>\n",
       "    <tr>\n",
       "      <th>26</th>\n",
       "      <td>0.031598</td>\n",
       "      <td>0.762751</td>\n",
       "      <td>0.046686</td>\n",
       "      <td>0.158965</td>\n",
       "      <td>cellphones</td>\n",
       "    </tr>\n",
       "    <tr>\n",
       "      <th>27</th>\n",
       "      <td>0.000984</td>\n",
       "      <td>0.000455</td>\n",
       "      <td>0.000509</td>\n",
       "      <td>0.998053</td>\n",
       "      <td>cups</td>\n",
       "    </tr>\n",
       "    <tr>\n",
       "      <th>28</th>\n",
       "      <td>0.003744</td>\n",
       "      <td>0.000093</td>\n",
       "      <td>0.002761</td>\n",
       "      <td>0.993402</td>\n",
       "      <td>cups</td>\n",
       "    </tr>\n",
       "    <tr>\n",
       "      <th>29</th>\n",
       "      <td>0.072751</td>\n",
       "      <td>0.004175</td>\n",
       "      <td>0.114813</td>\n",
       "      <td>0.808261</td>\n",
       "      <td>cups</td>\n",
       "    </tr>\n",
       "    <tr>\n",
       "      <th>30</th>\n",
       "      <td>0.006853</td>\n",
       "      <td>0.001601</td>\n",
       "      <td>0.990318</td>\n",
       "      <td>0.001228</td>\n",
       "      <td>spectacles</td>\n",
       "    </tr>\n",
       "    <tr>\n",
       "      <th>31</th>\n",
       "      <td>0.000862</td>\n",
       "      <td>0.995269</td>\n",
       "      <td>0.001185</td>\n",
       "      <td>0.002684</td>\n",
       "      <td>cellphones</td>\n",
       "    </tr>\n",
       "  </tbody>\n",
       "</table>\n",
       "</div>"
      ],
      "text/plain": [
       "     bananas  cellphones  spectacles      cups       class\n",
       "0   0.000010    0.000003    0.999973  0.000014  spectacles\n",
       "1   0.992390    0.000361    0.000336  0.006914     bananas\n",
       "2   0.000392    0.000049    0.997383  0.002176  spectacles\n",
       "3   0.000821    0.000053    0.000596  0.998530        cups\n",
       "4   0.995832    0.000567    0.000725  0.002876     bananas\n",
       "5   0.998153    0.000211    0.000363  0.001273     bananas\n",
       "6   0.009995    0.971630    0.008539  0.009836  cellphones\n",
       "7   0.000220    0.996556    0.000183  0.003042  cellphones\n",
       "8   0.048726    0.216698    0.353033  0.381542  spectacles\n",
       "9   0.040810    0.006763    0.008108  0.944319        cups\n",
       "10  0.003863    0.002238    0.984423  0.009476  spectacles\n",
       "11  0.999847    0.000025    0.000032  0.000096     bananas\n",
       "12  0.005341    0.038676    0.711324  0.244659  cellphones\n",
       "13  0.981147    0.002466    0.003766  0.012620     bananas\n",
       "14  0.002493    0.982526    0.001807  0.013175  cellphones\n",
       "15  0.999776    0.000029    0.000052  0.000142     bananas\n",
       "16  0.979862    0.000291    0.004380  0.015467     bananas\n",
       "17  0.000622    0.000187    0.997325  0.001866  spectacles\n",
       "18  0.000005    0.000001    0.999988  0.000006  spectacles\n",
       "19  0.000753    0.000650    0.997110  0.001487  spectacles\n",
       "20  0.000233    0.000012    0.000221  0.999534        cups\n",
       "21  0.000450    0.000144    0.999196  0.000210  spectacles\n",
       "22  0.000901    0.991409    0.001357  0.006334  cellphones\n",
       "23  0.002156    0.000280    0.992608  0.004956  spectacles\n",
       "24  0.164410    0.525610    0.266900  0.043081  cellphones\n",
       "25  0.993675    0.000739    0.003277  0.002308     bananas\n",
       "26  0.031598    0.762751    0.046686  0.158965  cellphones\n",
       "27  0.000984    0.000455    0.000509  0.998053        cups\n",
       "28  0.003744    0.000093    0.002761  0.993402        cups\n",
       "29  0.072751    0.004175    0.114813  0.808261        cups\n",
       "30  0.006853    0.001601    0.990318  0.001228  spectacles\n",
       "31  0.000862    0.995269    0.001185  0.002684  cellphones"
      ]
     },
     "execution_count": 84,
     "metadata": {},
     "output_type": "execute_result"
    }
   ],
   "source": [
    "# model predictions\n",
    "\n",
    "test_prediction = transfer_learning_prediction(\n",
    "    h_model,\n",
    "    xtest,\n",
    "    ytest\n",
    ")\n",
    "\n",
    "test_prediction"
   ]
  },
  {
   "cell_type": "code",
   "execution_count": 85,
   "metadata": {},
   "outputs": [],
   "source": [
    "def accuracy_score(model,x,y):\n",
    "    \"\"\"\n",
    "    This function spits out multi-class accuracy\n",
    "    \"\"\"\n",
    "    grouped_df = transfer_learning_prediction(\n",
    "        model, x, y\n",
    "    ).groupby('class').sum()\n",
    "    \n",
    "    grouped_df.sort_index(axis=1,inplace=True)\n",
    "    \n",
    "    accuracy_score = np.trace(grouped_df)/np.array(grouped_df).sum()\n",
    "    accuracy_score = round(accuracy_score,6)\n",
    "    \n",
    "    return accuracy_score"
   ]
  },
  {
   "cell_type": "code",
   "execution_count": 86,
   "metadata": {},
   "outputs": [
    {
     "data": {
      "text/plain": [
       "0.91433"
      ]
     },
     "execution_count": 86,
     "metadata": {},
     "output_type": "execute_result"
    }
   ],
   "source": [
    "accuracy_score(h_model, xtest, ytest)"
   ]
  },
  {
   "cell_type": "code",
   "execution_count": 87,
   "metadata": {
    "scrolled": true
   },
   "outputs": [
    {
     "data": {
      "text/plain": [
       "0.991485"
      ]
     },
     "execution_count": 87,
     "metadata": {},
     "output_type": "execute_result"
    }
   ],
   "source": [
    "accuracy_score(h_model, xtrain, ytrain)"
   ]
  },
  {
   "cell_type": "markdown",
   "metadata": {},
   "source": [
    "<hr style=\"border:2px solid black\">"
   ]
  },
  {
   "cell_type": "markdown",
   "metadata": {},
   "source": [
    "## References\n",
    "\n",
    "1. [Transfer Learning, Andrew Ng](https://www.youtube.com/watch?v=yofjFQddwHE)\n",
    "\n",
    "2. [Introduction to the Keras Tuner](https://www.tensorflow.org/tutorials/keras/keras_tuner)"
   ]
  },
  {
   "cell_type": "code",
   "execution_count": null,
   "metadata": {},
   "outputs": [],
   "source": []
  }
 ],
 "metadata": {
  "kernelspec": {
   "display_name": "Python 3 (ipykernel)",
   "language": "python",
   "name": "python3"
  },
  "language_info": {
   "codemirror_mode": {
    "name": "ipython",
    "version": 3
   },
   "file_extension": ".py",
   "mimetype": "text/x-python",
   "name": "python",
   "nbconvert_exporter": "python",
   "pygments_lexer": "ipython3",
   "version": "3.9.16"
  }
 },
 "nbformat": 4,
 "nbformat_minor": 2
}
